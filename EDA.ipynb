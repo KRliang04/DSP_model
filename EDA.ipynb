{
 "cells": [
  {
   "cell_type": "code",
   "execution_count": 23,
   "metadata": {},
   "outputs": [],
   "source": [
    "import pandas as pd"
   ]
  },
  {
   "cell_type": "code",
   "execution_count": 24,
   "metadata": {},
   "outputs": [],
   "source": [
    "data_path = \"../conversations/dsat/voip-0f41c16f2f-20130325_192310.txt\""
   ]
  },
  {
   "cell_type": "code",
   "execution_count": 25,
   "metadata": {},
   "outputs": [],
   "source": [
    "with open (data_path) as f:\n",
    "    data = f.read()"
   ]
  },
  {
   "cell_type": "code",
   "execution_count": 26,
   "metadata": {},
   "outputs": [
    {
     "name": "stdout",
     "output_type": "stream",
     "text": [
      "[SYSTEM] Hello , welcome to the Cambridge restaurant system? You can ask for restaurants by area , price range or food type . How may I help you?\n",
      "[USER]   i'm looking for a restaurant that serves german food\n",
      "[SYSTEM] You are looking for a german restaurant right?\n",
      "[USER]   no\n",
      "[SYSTEM] Let me confirm , You are looking for a restaurant in the moderate price range right?\n",
      "[USER]   yes\n",
      "[SYSTEM] I'm sorry but there is no restaurant serving german food\n",
      "[USER]   how about free\n",
      "[SYSTEM] I'm sorry but there is no restaurant serving german food\n",
      "[USER]   a restaurant serving french food\n",
      "[SYSTEM] You are looking for a german restaurant right?\n",
      "[USER]   thank you goodbye\n",
      "\n"
     ]
    }
   ],
   "source": [
    "print(data)"
   ]
  },
  {
   "cell_type": "code",
   "execution_count": 251,
   "metadata": {},
   "outputs": [],
   "source": [
    "def read_file(file):\n",
    "    with open (file) as f:\n",
    "        lines = [line.rstrip('\\n') for line in f]\n",
    "    id_name = file.split(\"/\")[-1].split(\".txt\")[0]\n",
    "    return id_name,lines"
   ]
  },
  {
   "cell_type": "code",
   "execution_count": null,
   "metadata": {},
   "outputs": [],
   "source": [
    "def number_repetition(lines):\n",
    "    new_list =[]\n",
    "    for line in lines:\n",
    "        if \"SYSTEM\" in line:\n",
    "            new_list.append(line.strip())\n",
    "    #create dictionary and count the repetition of sentence (Feature 1)\n",
    "    new_dict = {}\n",
    "    for li in new_list:\n",
    "        if li in new_dict:\n",
    "            new_dict[li] += 1\n",
    "        else:\n",
    "            new_dict[li] = 1\n",
    "    num_rep = sum([value for value in new_dict.values() if value > 1])\n",
    "    #Percentage of the repetition sentence in the entire conversation (Feature 3)\n",
    "    num_rep_per = num_rep/len(new_list)\n",
    "    \n",
    "    return num_rep,num_rep_per"
   ]
  },
  {
   "cell_type": "code",
   "execution_count": null,
   "metadata": {},
   "outputs": [],
   "source": [
    "def len_conversation(lines):\n",
    "    return len(lines)"
   ]
  },
  {
   "cell_type": "code",
   "execution_count": null,
   "metadata": {},
   "outputs": [],
   "source": []
  },
  {
   "cell_type": "markdown",
   "metadata": {},
   "source": [
    "#### Repetition of the chatbot / 4 features"
   ]
  },
  {
   "cell_type": "code",
   "execution_count": 226,
   "metadata": {},
   "outputs": [],
   "source": [
    "def number_repetition(file):\n",
    "    with open (file) as f:\n",
    "        lines = f.readlines()\n",
    "        new_list =[]\n",
    "        for line in lines:\n",
    "            if \"SYSTEM\" in line:\n",
    "                new_list.append(line.strip())\n",
    "    #create dictionary and count the repetition of sentence (Feature 1)\n",
    "    new_dict = {}\n",
    "    for li in new_list:\n",
    "        if li in new_dict:\n",
    "            new_dict[li] += 1\n",
    "        else:\n",
    "            new_dict[li] = 1\n",
    "    num_rep = sum([value for value in new_dict.values() if value > 1])\n",
    "    \n",
    "    #create a matrix to calculate repetition (Feature 2)\n",
    "    m = [[0]* len(new_list) for i in range(len(new_list))]\n",
    "    for i, x in enumerate(new_list):\n",
    "        for j, y in enumerate(new_list):\n",
    "            if x == y:\n",
    "                m[i][j] = 1 \n",
    "    all_value = 0\n",
    "    for li in m:\n",
    "        a = sum(li)\n",
    "        all_value+=a\n",
    "    num_rep_exp = (all_value-len(new_list))/2\n",
    "    \n",
    "    #Percentage of the repetition sentence in the entire conversation (Feature 3)\n",
    "    num_rep_per = num_rep/len(new_list)\n",
    "    #Number of sentences in the conversation (Feature 4)\n",
    "    len_conversation = len(lines)\n",
    "    \n",
    "    return num_rep, num_rep_per,num_rep_exp,len_conversation"
   ]
  },
  {
   "cell_type": "code",
   "execution_count": 227,
   "metadata": {},
   "outputs": [],
   "source": [
    "import glob\n",
    "text_files_dsat = glob.glob(\"../conversations/dsat/*.txt\")\n",
    "text_files_sat = glob.glob(\"../conversations/sat/*.txt\")"
   ]
  },
  {
   "cell_type": "code",
   "execution_count": 228,
   "metadata": {},
   "outputs": [
    {
     "name": "stdout",
     "output_type": "stream",
     "text": [
      "[SYSTEM] Hello , welcome to the Cambridge restaurant system? You can ask for restaurants by area , price range or food type . How may I help you?\n",
      "[USER]   yes can i have a restaurant who\n",
      "[SYSTEM] What kind of food would you like?\n",
      "[USER]   cheap\n",
      "[SYSTEM] What kind of food would you like?\n",
      "[USER]   european\n",
      "[SYSTEM] Sorry there is no european restaurant in the cheap price range\n",
      "[USER]   european food any price\n",
      "[SYSTEM] Sorry there is no european restaurant in the cheap price range\n",
      "[USER]   okay can i have european food\n",
      "[SYSTEM] Sorry there is no european restaurant in the cheap price range\n",
      "[USER]   any price range\n",
      "[SYSTEM] Sorry there is no european restaurant in the cheap price range\n",
      "[USER]   uh european food\n",
      "[SYSTEM] Sorry there is no european restaurant in the cheap price range\n",
      "[USER]   can i have european food\n",
      "[SYSTEM] Sorry there is no european restaurant in the cheap price range\n",
      "[USER]   can i have the in any price range\n",
      "[SYSTEM] Sorry there is no european restaurant in the cheap price range\n",
      "[USER]   and its in the price range\n",
      "[SYSTEM] There are  restaurants serving european in the cheap price range . What area would you like?\n",
      "[USER]   don't care\n",
      "[SYSTEM] Sorry there is no european restaurant in the cheap price range\n",
      "[USER]   any price range\n",
      "[SYSTEM] Sorry there is no european restaurant in the cheap price range\n",
      "[USER]   any price range\n",
      "\n"
     ]
    }
   ],
   "source": [
    "with open(text_files_dsat[6]) as f:\n",
    "    print(f.read())"
   ]
  },
  {
   "cell_type": "markdown",
   "metadata": {},
   "source": [
    "#### create feature dataframe for disatified dataset"
   ]
  },
  {
   "cell_type": "code",
   "execution_count": 229,
   "metadata": {},
   "outputs": [],
   "source": [
    "columns = ['num_rep','num_rep_per','num_rep_exp','len_conversation', 'Is_satisfied']\n",
    "df_rep_dsat = pd.DataFrame(index=range(len(text_files_dsat)), columns=columns)"
   ]
  },
  {
   "cell_type": "code",
   "execution_count": 230,
   "metadata": {},
   "outputs": [],
   "source": [
    "for idx,file in enumerate(text_files_dsat):\n",
    "    num_rep, num_rep_per,num_rep_exp,len_conversation = number_repetition(file)\n",
    "    df_rep_dsat.iloc[idx] = pd.Series({'num_rep':num_rep, 'num_rep_per':num_rep_per,\n",
    "                                  'num_rep_exp':num_rep_exp,'len_conversation':len_conversation, 'Is_satisfied':0})"
   ]
  },
  {
   "cell_type": "markdown",
   "metadata": {},
   "source": [
    "#### create feature dataframe for satified dataset"
   ]
  },
  {
   "cell_type": "code",
   "execution_count": 231,
   "metadata": {},
   "outputs": [],
   "source": [
    "columns = ['num_rep','num_rep_per','num_rep_exp','len_conversation', 'Is_satisfied']\n",
    "df_rep_sat = pd.DataFrame(index=range(len(text_files_sat)), columns=columns)"
   ]
  },
  {
   "cell_type": "code",
   "execution_count": 232,
   "metadata": {},
   "outputs": [],
   "source": [
    "for idx,file in enumerate(text_files_sat):\n",
    "    num_rep, num_rep_per,num_rep_exp,len_conversation = number_repetition(file)\n",
    "    df_rep_sat.iloc[idx] = pd.Series({'num_rep':num_rep, 'num_rep_per':num_rep_per,\n",
    "                                  'num_rep_exp':num_rep_exp,'len_conversation':len_conversation, 'Is_satisfied':1})"
   ]
  },
  {
   "cell_type": "code",
   "execution_count": 233,
   "metadata": {},
   "outputs": [
    {
     "data": {
      "text/html": [
       "<div>\n",
       "<style scoped>\n",
       "    .dataframe tbody tr th:only-of-type {\n",
       "        vertical-align: middle;\n",
       "    }\n",
       "\n",
       "    .dataframe tbody tr th {\n",
       "        vertical-align: top;\n",
       "    }\n",
       "\n",
       "    .dataframe thead th {\n",
       "        text-align: right;\n",
       "    }\n",
       "</style>\n",
       "<table border=\"1\" class=\"dataframe\">\n",
       "  <thead>\n",
       "    <tr style=\"text-align: right;\">\n",
       "      <th></th>\n",
       "      <th>num_rep</th>\n",
       "      <th>num_rep_per</th>\n",
       "      <th>num_rep_exp</th>\n",
       "      <th>len_conversation</th>\n",
       "      <th>Is_satisfied</th>\n",
       "    </tr>\n",
       "  </thead>\n",
       "  <tbody>\n",
       "    <tr>\n",
       "      <th>0</th>\n",
       "      <td>2</td>\n",
       "      <td>0.142857</td>\n",
       "      <td>1</td>\n",
       "      <td>28</td>\n",
       "      <td>0</td>\n",
       "    </tr>\n",
       "    <tr>\n",
       "      <th>1</th>\n",
       "      <td>11</td>\n",
       "      <td>0.55</td>\n",
       "      <td>19</td>\n",
       "      <td>40</td>\n",
       "      <td>0</td>\n",
       "    </tr>\n",
       "    <tr>\n",
       "      <th>2</th>\n",
       "      <td>5</td>\n",
       "      <td>0.625</td>\n",
       "      <td>4</td>\n",
       "      <td>16</td>\n",
       "      <td>0</td>\n",
       "    </tr>\n",
       "    <tr>\n",
       "      <th>3</th>\n",
       "      <td>0</td>\n",
       "      <td>0</td>\n",
       "      <td>0</td>\n",
       "      <td>6</td>\n",
       "      <td>0</td>\n",
       "    </tr>\n",
       "    <tr>\n",
       "      <th>4</th>\n",
       "      <td>8</td>\n",
       "      <td>0.571429</td>\n",
       "      <td>16</td>\n",
       "      <td>28</td>\n",
       "      <td>0</td>\n",
       "    </tr>\n",
       "  </tbody>\n",
       "</table>\n",
       "</div>"
      ],
      "text/plain": [
       "  num_rep num_rep_per num_rep_exp len_conversation Is_satisfied\n",
       "0       2    0.142857           1               28            0\n",
       "1      11        0.55          19               40            0\n",
       "2       5       0.625           4               16            0\n",
       "3       0           0           0                6            0\n",
       "4       8    0.571429          16               28            0"
      ]
     },
     "execution_count": 233,
     "metadata": {},
     "output_type": "execute_result"
    }
   ],
   "source": [
    "df_rep_dsat.head()"
   ]
  },
  {
   "cell_type": "code",
   "execution_count": 234,
   "metadata": {},
   "outputs": [
    {
     "data": {
      "text/html": [
       "<div>\n",
       "<style scoped>\n",
       "    .dataframe tbody tr th:only-of-type {\n",
       "        vertical-align: middle;\n",
       "    }\n",
       "\n",
       "    .dataframe tbody tr th {\n",
       "        vertical-align: top;\n",
       "    }\n",
       "\n",
       "    .dataframe thead th {\n",
       "        text-align: right;\n",
       "    }\n",
       "</style>\n",
       "<table border=\"1\" class=\"dataframe\">\n",
       "  <thead>\n",
       "    <tr style=\"text-align: right;\">\n",
       "      <th></th>\n",
       "      <th>num_rep</th>\n",
       "      <th>num_rep_per</th>\n",
       "      <th>num_rep_exp</th>\n",
       "      <th>len_conversation</th>\n",
       "      <th>Is_satisfied</th>\n",
       "    </tr>\n",
       "  </thead>\n",
       "  <tbody>\n",
       "    <tr>\n",
       "      <th>0</th>\n",
       "      <td>8</td>\n",
       "      <td>0.571429</td>\n",
       "      <td>28</td>\n",
       "      <td>28</td>\n",
       "      <td>1</td>\n",
       "    </tr>\n",
       "    <tr>\n",
       "      <th>1</th>\n",
       "      <td>0</td>\n",
       "      <td>0</td>\n",
       "      <td>0</td>\n",
       "      <td>16</td>\n",
       "      <td>1</td>\n",
       "    </tr>\n",
       "    <tr>\n",
       "      <th>2</th>\n",
       "      <td>0</td>\n",
       "      <td>0</td>\n",
       "      <td>0</td>\n",
       "      <td>10</td>\n",
       "      <td>1</td>\n",
       "    </tr>\n",
       "    <tr>\n",
       "      <th>3</th>\n",
       "      <td>18</td>\n",
       "      <td>0.72</td>\n",
       "      <td>32</td>\n",
       "      <td>50</td>\n",
       "      <td>1</td>\n",
       "    </tr>\n",
       "    <tr>\n",
       "      <th>4</th>\n",
       "      <td>0</td>\n",
       "      <td>0</td>\n",
       "      <td>0</td>\n",
       "      <td>12</td>\n",
       "      <td>1</td>\n",
       "    </tr>\n",
       "  </tbody>\n",
       "</table>\n",
       "</div>"
      ],
      "text/plain": [
       "  num_rep num_rep_per num_rep_exp len_conversation Is_satisfied\n",
       "0       8    0.571429          28               28            1\n",
       "1       0           0           0               16            1\n",
       "2       0           0           0               10            1\n",
       "3      18        0.72          32               50            1\n",
       "4       0           0           0               12            1"
      ]
     },
     "execution_count": 234,
     "metadata": {},
     "output_type": "execute_result"
    }
   ],
   "source": [
    "df_rep_sat.head()"
   ]
  },
  {
   "cell_type": "code",
   "execution_count": 235,
   "metadata": {},
   "outputs": [
    {
     "name": "stdout",
     "output_type": "stream",
     "text": [
      "Number of disatisfied files: 157\n",
      "Number of satisfied files: 314\n"
     ]
    }
   ],
   "source": [
    "print('Number of disatisfied files: {}'.format(len(df_rep_dsat)))\n",
    "print('Number of satisfied files: {}'.format(len(df_rep_sat)))"
   ]
  },
  {
   "cell_type": "markdown",
   "metadata": {},
   "source": [
    "#### concat 2 dataframe"
   ]
  },
  {
   "cell_type": "code",
   "execution_count": 236,
   "metadata": {},
   "outputs": [],
   "source": [
    "new_df = pd.concat([df_rep_dsat,df_rep_sat])"
   ]
  },
  {
   "cell_type": "markdown",
   "metadata": {},
   "source": [
    "#### shuffle the dataframe"
   ]
  },
  {
   "cell_type": "code",
   "execution_count": 237,
   "metadata": {},
   "outputs": [],
   "source": [
    "df_shuffle = new_df.sample(frac=1).reset_index(drop=True)"
   ]
  },
  {
   "cell_type": "code",
   "execution_count": 203,
   "metadata": {},
   "outputs": [],
   "source": [
    "df_shuffle.to_csv(\"features.csv\",index=False)"
   ]
  },
  {
   "cell_type": "markdown",
   "metadata": {},
   "source": [
    "#### Logistic regression"
   ]
  },
  {
   "cell_type": "code",
   "execution_count": 271,
   "metadata": {},
   "outputs": [],
   "source": [
    "from sklearn.model_selection import train_test_split\n",
    "from sklearn.linear_model import LogisticRegression"
   ]
  },
  {
   "cell_type": "code",
   "execution_count": 278,
   "metadata": {},
   "outputs": [],
   "source": [
    "X = df_shuffle.iloc[:,:-1]\n",
    "y = df_shuffle.iloc[:,-1]\n",
    "X_train, X_test, y_train, y_test = train_test_split(X, y, random_state=0)"
   ]
  },
  {
   "cell_type": "code",
   "execution_count": 279,
   "metadata": {},
   "outputs": [],
   "source": [
    "y_train = y_train.astype('int')\n",
    "y_test = y_test.astype('int')"
   ]
  },
  {
   "cell_type": "code",
   "execution_count": 280,
   "metadata": {},
   "outputs": [
    {
     "name": "stderr",
     "output_type": "stream",
     "text": [
      "/anaconda3/lib/python3.6/site-packages/sklearn/linear_model/logistic.py:433: FutureWarning: Default solver will be changed to 'lbfgs' in 0.22. Specify a solver to silence this warning.\n",
      "  FutureWarning)\n"
     ]
    },
    {
     "data": {
      "text/plain": [
       "LogisticRegression(C=1.0, class_weight=None, dual=False, fit_intercept=True,\n",
       "          intercept_scaling=1, max_iter=100, multi_class='warn',\n",
       "          n_jobs=None, penalty='l2', random_state=0, solver='warn',\n",
       "          tol=0.0001, verbose=0, warm_start=False)"
      ]
     },
     "execution_count": 280,
     "metadata": {},
     "output_type": "execute_result"
    }
   ],
   "source": [
    "classifier = LogisticRegression(random_state=0)\n",
    "classifier.fit(X_train, y_train)"
   ]
  },
  {
   "cell_type": "code",
   "execution_count": 281,
   "metadata": {},
   "outputs": [
    {
     "name": "stdout",
     "output_type": "stream",
     "text": [
      "[[22 13]\n",
      " [14 69]]\n"
     ]
    }
   ],
   "source": [
    "y_pred = classifier.predict(X_test)\n",
    "from sklearn.metrics import confusion_matrix\n",
    "confusion_matrix = confusion_matrix(y_test, y_pred)\n",
    "print(confusion_matrix)"
   ]
  },
  {
   "cell_type": "code",
   "execution_count": 282,
   "metadata": {},
   "outputs": [],
   "source": [
    "y_pred_new = classifier.predict_proba(X_test)\n",
    "y_pred_new2 = classifier.decision_function(X_test)"
   ]
  },
  {
   "cell_type": "code",
   "execution_count": 283,
   "metadata": {},
   "outputs": [
    {
     "name": "stdout",
     "output_type": "stream",
     "text": [
      "Accuracy of logistic regression classifier on test set: 0.77\n"
     ]
    }
   ],
   "source": [
    "print('Accuracy of logistic regression classifier on test set: {:.2f}'.format(classifier.score(X_test, y_test)))"
   ]
  },
  {
   "cell_type": "code",
   "execution_count": 284,
   "metadata": {},
   "outputs": [],
   "source": [
    "from pandas import *\n",
    "import numpy as np\n",
    "from scipy.stats.stats import pearsonr\n",
    "import itertools"
   ]
  },
  {
   "cell_type": "code",
   "execution_count": 168,
   "metadata": {},
   "outputs": [
    {
     "name": "stdout",
     "output_type": "stream",
     "text": [
      "                                     PCC        p-value\n",
      "len_conversation__Is_satisfied -0.353808   2.460829e-15\n",
      "num_rep__Is_satisfied          -0.477934   2.981528e-28\n",
      "num_rep__len_conversation       0.858641  3.229487e-138\n",
      "num_rep__num_rep_exp            0.758841   2.193505e-89\n",
      "num_rep__num_rep_per            0.856732  5.911338e-137\n",
      "num_rep_exp__Is_satisfied      -0.347836   7.670654e-15\n",
      "num_rep_exp__len_conversation   0.603272   5.067019e-48\n",
      "num_rep_per__Is_satisfied      -0.522149   2.668523e-34\n",
      "num_rep_per__len_conversation   0.592383   5.972811e-46\n",
      "num_rep_per__num_rep_exp        0.561749   1.586553e-40\n"
     ]
    }
   ],
   "source": [
    "correlations = {}\n",
    "columns = df_shuffle.columns.tolist()\n",
    "\n",
    "for col_a, col_b in itertools.combinations(columns, 2):\n",
    "    correlations[col_a + '__' + col_b] = pearsonr(df_shuffle.loc[:, col_a], df_shuffle.loc[:, col_b])\n",
    "\n",
    "result = DataFrame.from_dict(correlations, orient='index')\n",
    "result.columns = ['PCC', 'p-value']\n",
    "\n",
    "print(result.sort_index())"
   ]
  },
  {
   "cell_type": "markdown",
   "metadata": {},
   "source": [
    "#### Build the model with one variable"
   ]
  },
  {
   "cell_type": "code",
   "execution_count": 177,
   "metadata": {},
   "outputs": [],
   "source": [
    "X = df_shuffle.iloc[:,:1]\n",
    "y = df_shuffle.iloc[:,-1]\n",
    "X_train, X_test, y_train, y_test = train_test_split(X, y, random_state=0)\n",
    "y_train = y_train.astype('int')\n",
    "y_test = y_test.astype('int')"
   ]
  },
  {
   "cell_type": "code",
   "execution_count": 178,
   "metadata": {},
   "outputs": [
    {
     "name": "stderr",
     "output_type": "stream",
     "text": [
      "/anaconda3/lib/python3.6/site-packages/sklearn/linear_model/logistic.py:433: FutureWarning: Default solver will be changed to 'lbfgs' in 0.22. Specify a solver to silence this warning.\n",
      "  FutureWarning)\n"
     ]
    },
    {
     "data": {
      "text/plain": [
       "LogisticRegression(C=1.0, class_weight=None, dual=False, fit_intercept=True,\n",
       "          intercept_scaling=1, max_iter=100, multi_class='warn',\n",
       "          n_jobs=None, penalty='l2', random_state=0, solver='warn',\n",
       "          tol=0.0001, verbose=0, warm_start=False)"
      ]
     },
     "execution_count": 178,
     "metadata": {},
     "output_type": "execute_result"
    }
   ],
   "source": [
    "classifier = LogisticRegression(random_state=0)\n",
    "classifier.fit(X_train, y_train)"
   ]
  },
  {
   "cell_type": "code",
   "execution_count": 179,
   "metadata": {},
   "outputs": [
    {
     "name": "stdout",
     "output_type": "stream",
     "text": [
      "Accuracy of num_rep: 0.70\n"
     ]
    }
   ],
   "source": [
    "print('Accuracy of num_rep: {:.2f}'.format(classifier.score(X_test, y_test)))"
   ]
  },
  {
   "cell_type": "code",
   "execution_count": 175,
   "metadata": {},
   "outputs": [
    {
     "name": "stdout",
     "output_type": "stream",
     "text": [
      "Accuracy of num_rep_per: 0.73\n"
     ]
    },
    {
     "name": "stderr",
     "output_type": "stream",
     "text": [
      "/anaconda3/lib/python3.6/site-packages/sklearn/linear_model/logistic.py:433: FutureWarning: Default solver will be changed to 'lbfgs' in 0.22. Specify a solver to silence this warning.\n",
      "  FutureWarning)\n"
     ]
    }
   ],
   "source": [
    "X = df_shuffle.iloc[:,1:2]\n",
    "y = df_shuffle.iloc[:,-1]\n",
    "X_train, X_test, y_train, y_test = train_test_split(X, y, random_state=0)\n",
    "y_train = y_train.astype('int')\n",
    "y_test = y_test.astype('int')\n",
    "classifier = LogisticRegression(random_state=0)\n",
    "classifier.fit(X_train, y_train)\n",
    "print('Accuracy of num_rep_per: {:.2f}'.format(classifier.score(X_test, y_test)))"
   ]
  },
  {
   "cell_type": "code",
   "execution_count": 181,
   "metadata": {},
   "outputs": [
    {
     "name": "stdout",
     "output_type": "stream",
     "text": [
      "Accuracy of num_rep_exp: 0.72\n"
     ]
    },
    {
     "name": "stderr",
     "output_type": "stream",
     "text": [
      "/anaconda3/lib/python3.6/site-packages/sklearn/linear_model/logistic.py:433: FutureWarning: Default solver will be changed to 'lbfgs' in 0.22. Specify a solver to silence this warning.\n",
      "  FutureWarning)\n"
     ]
    }
   ],
   "source": [
    "X = df_shuffle.iloc[:,2:3]\n",
    "y = df_shuffle.iloc[:,-1]\n",
    "X_train, X_test, y_train, y_test = train_test_split(X, y, random_state=0)\n",
    "y_train = y_train.astype('int')\n",
    "y_test = y_test.astype('int')\n",
    "classifier = LogisticRegression(random_state=0)\n",
    "classifier.fit(X_train, y_train)\n",
    "print('Accuracy of num_rep_exp: {:.2f}'.format(classifier.score(X_test, y_test)))"
   ]
  },
  {
   "cell_type": "code",
   "execution_count": 184,
   "metadata": {},
   "outputs": [
    {
     "name": "stdout",
     "output_type": "stream",
     "text": [
      "Accuracy of len_conversation: 0.66\n"
     ]
    },
    {
     "name": "stderr",
     "output_type": "stream",
     "text": [
      "/anaconda3/lib/python3.6/site-packages/sklearn/linear_model/logistic.py:433: FutureWarning: Default solver will be changed to 'lbfgs' in 0.22. Specify a solver to silence this warning.\n",
      "  FutureWarning)\n"
     ]
    }
   ],
   "source": [
    "X = df_shuffle.iloc[:,3:4]\n",
    "y = df_shuffle.iloc[:,-1]\n",
    "X_train, X_test, y_train, y_test = train_test_split(X, y, random_state=0)\n",
    "y_train = y_train.astype('int')\n",
    "y_test = y_test.astype('int')\n",
    "classifier = LogisticRegression(random_state=0)\n",
    "classifier.fit(X_train, y_train)\n",
    "print('Accuracy of len_conversation: {:.2f}'.format(classifier.score(X_test, y_test)))"
   ]
  },
  {
   "cell_type": "code",
   "execution_count": null,
   "metadata": {},
   "outputs": [],
   "source": []
  }
 ],
 "metadata": {
  "kernelspec": {
   "display_name": "Python 3",
   "language": "python",
   "name": "python3"
  },
  "language_info": {
   "codemirror_mode": {
    "name": "ipython",
    "version": 3
   },
   "file_extension": ".py",
   "mimetype": "text/x-python",
   "name": "python",
   "nbconvert_exporter": "python",
   "pygments_lexer": "ipython3",
   "version": "3.6.5"
  }
 },
 "nbformat": 4,
 "nbformat_minor": 2
}
