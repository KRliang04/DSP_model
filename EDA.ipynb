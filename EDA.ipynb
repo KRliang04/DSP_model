{
 "cells": [
  {
   "cell_type": "code",
   "execution_count": 1,
   "metadata": {},
   "outputs": [
    {
     "name": "stdout",
     "output_type": "stream",
     "text": [
      "[nltk_data] Downloading package vader_lexicon to\n",
      "[nltk_data]     C:\\Users\\manon\\AppData\\Roaming\\nltk_data...\n",
      "[nltk_data]   Package vader_lexicon is already up-to-date!\n"
     ]
    }
   ],
   "source": [
    "from __future__ import division\n",
    "import pandas as pd\n",
    "import numpy as np\n",
    "\n",
    "import nltk\n",
    "nltk.download('vader_lexicon')\n",
    "from nltk.sentiment import SentimentAnalyzer\n",
    "from nltk.sentiment.vader import SentimentIntensityAnalyzer"
   ]
  },
  {
   "cell_type": "code",
   "execution_count": 24,
   "metadata": {},
   "outputs": [],
   "source": [
    "data_path = \"../conversations/dsat/voip-0f41c16f2f-20130325_192310.txt\""
   ]
  },
  {
   "cell_type": "code",
   "execution_count": 25,
   "metadata": {},
   "outputs": [],
   "source": [
    "with open (data_path) as f:\n",
    "    data = f.read()"
   ]
  },
  {
   "cell_type": "code",
   "execution_count": 26,
   "metadata": {},
   "outputs": [
    {
     "name": "stdout",
     "output_type": "stream",
     "text": [
      "[SYSTEM] Hello , welcome to the Cambridge restaurant system? You can ask for restaurants by area , price range or food type . How may I help you?\n",
      "[USER]   i'm looking for a restaurant that serves german food\n",
      "[SYSTEM] You are looking for a german restaurant right?\n",
      "[USER]   no\n",
      "[SYSTEM] Let me confirm , You are looking for a restaurant in the moderate price range right?\n",
      "[USER]   yes\n",
      "[SYSTEM] I'm sorry but there is no restaurant serving german food\n",
      "[USER]   how about free\n",
      "[SYSTEM] I'm sorry but there is no restaurant serving german food\n",
      "[USER]   a restaurant serving french food\n",
      "[SYSTEM] You are looking for a german restaurant right?\n",
      "[USER]   thank you goodbye\n",
      "\n"
     ]
    }
   ],
   "source": [
    "print(data)"
   ]
  },
  {
   "cell_type": "markdown",
   "metadata": {},
   "source": [
    "### function definition"
   ]
  },
  {
   "cell_type": "code",
   "execution_count": 2,
   "metadata": {},
   "outputs": [],
   "source": [
    "def read_file(file):\n",
    "    with open (file) as f:\n",
    "        lines = [line.rstrip('\\n') for line in f]\n",
    "    id_name = file.split(\"/\")[-1].split(\".txt\")[0]\n",
    "    return id_name,lines"
   ]
  },
  {
   "cell_type": "code",
   "execution_count": 3,
   "metadata": {},
   "outputs": [],
   "source": [
    "def number_repetition(lines):\n",
    "    new_list =[]\n",
    "    for line in lines:\n",
    "        if \"SYSTEM\" in line:\n",
    "            new_list.append(line.strip())\n",
    "    #create dictionary and count the repetition of sentence (Feature 1)\n",
    "    new_dict = {}\n",
    "    for li in new_list:\n",
    "        if li in new_dict:\n",
    "            new_dict[li] += 1\n",
    "        else:\n",
    "            new_dict[li] = 1\n",
    "    num_rep = sum([value for value in new_dict.values() if value > 1])\n",
    "    #Percentage of the repetition sentence in the entire conversation (Feature 3)\n",
    "    num_rep_per = num_rep/len(new_list)\n",
    "    \n",
    "    return num_rep,num_rep_per, len(lines)\n",
    "\n"
   ]
  },
  {
   "cell_type": "code",
   "execution_count": 53,
   "metadata": {},
   "outputs": [],
   "source": [
    "def pos_neg_conv(file):\n",
    "    # get everything\n",
    "    \n",
    "    dict_conv_only = create_user_conv(file)\n",
    "    compound_score, tot_pos_sen, tot_neg_sen = get_sentiment(dict_conv_only)\n",
    "    return compound_score, tot_pos_sen, tot_neg_sen\n",
    "    \n",
    "    \n",
    "def get_sentiment(dict_conv_only):\n",
    "    # generate the compound sentiment score and store in conversation\n",
    "\n",
    "    for sentence in dict_conv_only.keys():\n",
    "        compound_sentence = generatesentiment(sentence)\n",
    "        # add compound score to sentence \n",
    "        dict_conv_only[sentence] = compound_sentence\n",
    "    # add total compound score of sentence to conversation\n",
    "    compound_score = sum(dict_conv_only.values())/len(dict_conv_only.values())\n",
    "    tot_pos_sen = len([x for x in dict_conv_only.values() if x > 0])/len(dict_conv_only.values())\n",
    "    tot_neg_sen = len([x for x in dict_conv_only.values() if x < 0])/len(dict_conv_only.values())\n",
    "    return compound_score, tot_pos_sen, tot_neg_sen\n",
    "    \n",
    "    \n",
    "def create_user_conv(lines):\n",
    "    #create a list per conversation of only USER sentences \n",
    "    # and 'thankyou goodbye left out'\n",
    "    conv_only_user = []\n",
    "    new_list =[]\n",
    "    for line in lines:\n",
    "        # only USER input\n",
    "        if \"USER\" in line:\n",
    "            # Remove the word '[USER]'\n",
    "            line = line.replace(\"[USER]\", \"\")\n",
    "            line = line.strip()\n",
    "            new_list.append(line)\n",
    "    # Remove 'thank you good bye' if in last sentences\n",
    "    for i,j in dic.items():\n",
    "        new_list[-1] = new_list[-1].replace(i, j)\n",
    "        new_list[-2] = new_list[-2].replace(i, j)\n",
    "    conv_only_user.append(new_list)\n",
    "\n",
    "    # convert to dict \n",
    "    # with every conversation a dict with sentences as keys\n",
    "    # and compound pos neg score (as 0)\n",
    "    for conv in conv_only_user:\n",
    "        new_dict2 = {}\n",
    "        for sentence in conv:\n",
    "            new_dict2[sentence] = 0\n",
    "    return new_dict2       \n",
    "        \n",
    "def generatesentiment(sentence):\n",
    "    # function for sentiment analysis on sentences\n",
    "    sid = SentimentIntensityAnalyzer()\n",
    "    ss = sid.polarity_scores(sentence)\n",
    "    return ss['compound']"
   ]
  },
  {
   "cell_type": "code",
   "execution_count": null,
   "metadata": {},
   "outputs": [],
   "source": []
  },
  {
   "cell_type": "markdown",
   "metadata": {},
   "source": [
    "#### Repetition of the chatbot / 4 features"
   ]
  },
  {
   "cell_type": "code",
   "execution_count": 226,
   "metadata": {},
   "outputs": [],
   "source": [
    "# def number_repetition(file):\n",
    "#     with open (file) as f:\n",
    "#         lines = f.readlines()\n",
    "#         new_list =[]\n",
    "#         for line in lines:\n",
    "#             if \"SYSTEM\" in line:\n",
    "#                 new_list.append(line.strip())\n",
    "#     #create dictionary and count the repetition of sentence (Feature 1)\n",
    "#     new_dict = {}\n",
    "#     for li in new_list:\n",
    "#         if li in new_dict:\n",
    "#             new_dict[li] += 1\n",
    "#         else:\n",
    "#             new_dict[li] = 1\n",
    "#     num_rep = sum([value for value in new_dict.values() if value > 1])\n",
    "    \n",
    "#     #create a matrix to calculate repetition (Feature 2)\n",
    "#     m = [[0]* len(new_list) for i in range(len(new_list))]\n",
    "#     for i, x in enumerate(new_list):\n",
    "#         for j, y in enumerate(new_list):\n",
    "#             if x == y:\n",
    "#                 m[i][j] = 1 \n",
    "#     all_value = 0\n",
    "#     for li in m:\n",
    "#         a = sum(li)\n",
    "#         all_value+=a\n",
    "#     num_rep_exp = (all_value-len(new_list))/2\n",
    "    \n",
    "#     #Percentage of the repetition sentence in the entire conversation (Feature 3)\n",
    "#     num_rep_per = num_rep/len(new_list)\n",
    "#     #Number of sentences in the conversation (Feature 4)\n",
    "#     len_conversation = len(lines)\n",
    "    \n",
    "#     return num_rep, num_rep_per,num_rep_exp,len_conversation"
   ]
  },
  {
   "cell_type": "code",
   "execution_count": 34,
   "metadata": {},
   "outputs": [],
   "source": [
    "import glob\n",
    "text_files_dsat = glob.glob(\"./allconversations/dsat/*.txt\")\n",
    "text_files_sat = glob.glob(\"./allconversations/sat/*.txt\")"
   ]
  },
  {
   "cell_type": "code",
   "execution_count": 41,
   "metadata": {},
   "outputs": [],
   "source": [
    "# sentences to delete\n",
    "dic = {'thankyou':\"\", 'thank you':\"\", \"goodbye\":\"\", \"good bye\":\"\", 'bye':\"\"}"
   ]
  },
  {
   "cell_type": "code",
   "execution_count": 6,
   "metadata": {},
   "outputs": [
    {
     "ename": "IndexError",
     "evalue": "list index out of range",
     "output_type": "error",
     "traceback": [
      "\u001b[1;31m---------------------------------------------------------------------------\u001b[0m",
      "\u001b[1;31mIndexError\u001b[0m                                Traceback (most recent call last)",
      "\u001b[1;32m<ipython-input-6-df536cc96e41>\u001b[0m in \u001b[0;36m<module>\u001b[1;34m\u001b[0m\n\u001b[1;32m----> 1\u001b[1;33m \u001b[1;32mwith\u001b[0m \u001b[0mopen\u001b[0m\u001b[1;33m(\u001b[0m\u001b[0mtext_files_dsat\u001b[0m\u001b[1;33m[\u001b[0m\u001b[1;36m6\u001b[0m\u001b[1;33m]\u001b[0m\u001b[1;33m)\u001b[0m \u001b[1;32mas\u001b[0m \u001b[0mf\u001b[0m\u001b[1;33m:\u001b[0m\u001b[1;33m\u001b[0m\u001b[0m\n\u001b[0m\u001b[0;32m      2\u001b[0m     \u001b[0mprint\u001b[0m\u001b[1;33m(\u001b[0m\u001b[0mf\u001b[0m\u001b[1;33m.\u001b[0m\u001b[0mread\u001b[0m\u001b[1;33m(\u001b[0m\u001b[1;33m)\u001b[0m\u001b[1;33m)\u001b[0m\u001b[1;33m\u001b[0m\u001b[0m\n",
      "\u001b[1;31mIndexError\u001b[0m: list index out of range"
     ]
    }
   ],
   "source": [
    "with open(text_files_dsat[6]) as f:\n",
    "    print(f.read())"
   ]
  },
  {
   "cell_type": "markdown",
   "metadata": {},
   "source": [
    "#### create feature dataframe for disatisfied dataset"
   ]
  },
  {
   "cell_type": "code",
   "execution_count": 47,
   "metadata": {},
   "outputs": [],
   "source": [
    "columns = ['id','num_rep','num_rep_per','len_conversation','total_compound_conv', 'tot_pos_sen', 'tot_neg_sen', 'Is_satisfied']\n",
    "df_rep_dsat = pd.DataFrame(index=range(len(text_files_dsat)), columns=columns)"
   ]
  },
  {
   "cell_type": "code",
   "execution_count": 49,
   "metadata": {},
   "outputs": [
    {
     "name": "stdout",
     "output_type": "stream",
     "text": [
      "['', 'cheap', \"i'm looking\", 'in the west part of town', 'is there anything else', 'is there anything else', 'what options', 'in town', 'is it in', 'it in', 'what is the address', ' ']\n",
      "{'': 0, 'cheap': 0, \"i'm looking\": 0, 'in the west part of town': 0, 'is there anything else': 0, 'what options': 0, 'in town': 0, 'is it in': 0, 'it in': 0, 'what is the address': 0, ' ': 0}\n",
      "0.0 0.0 0.0\n",
      "[\"i'm looking for a restaurant that serves german food\", 'no', 'yes', 'how about free', 'a restaurant serving french food', ' ']\n",
      "{\"i'm looking for a restaurant that serves german food\": 0, 'no': 0, 'yes': 0, 'how about free': 0, 'a restaurant serving french food': 0, ' ': 0}\n",
      "0.10275000000000001 0.3333333333333333 0.16666666666666666\n",
      "['hmm part', 'uh post', 'cheap restaurant', 'yes', 'chinese', ' can sorry', ' ']\n",
      "{'hmm part': 0, 'uh post': 0, 'cheap restaurant': 0, 'yes': 0, 'chinese': 0, ' can sorry': 0, ' ': 0}\n",
      "0.04638571428571429 0.14285714285714285 0.14285714285714285\n",
      "['persian food', 'indian food', 'east', 'cheap', ' ']\n",
      "{'persian food': 0, 'indian food': 0, 'east': 0, 'cheap': 0, ' ': 0}\n",
      "0.0 0.0 0.0\n",
      "['and food', 'northern', 'north', 'danish', 'danish food', 'asian oriental', 'gastro can i the address and can i have the address and the post code', ' ']\n",
      "{'and food': 0, 'northern': 0, 'north': 0, 'danish': 0, 'danish food': 0, 'asian oriental': 0, 'gastro can i the address and can i have the address and the post code': 0, ' ': 0}\n",
      "0.0 0.0 0.0\n",
      "['cheap restaurant', 'korean food', ' ']\n",
      "{'cheap restaurant': 0, 'korean food': 0, ' ': 0}\n",
      "0.0 0.0 0.0\n",
      "['turkish food', 'moderately priced', 'anything else', 'yes', 'anything else', 'start over', 'no that', 'anything else', 'go back', 'what else', 'expensive', 'anything else', 'turkish food', 'moderate price', 'anything else', 'address', 'phone number', ' ']\n",
      "{'turkish food': 0, 'moderately priced': 0, 'anything else': 0, 'yes': 0, 'start over': 0, 'no that': 0, 'go back': 0, 'what else': 0, 'expensive': 0, 'moderate price': 0, 'address': 0, 'phone number': 0, ' ': 0}\n",
      "0.014084615384615383 0.15384615384615385 0.07692307692307693\n",
      "['no', 'want the', 'i need', 'is', 'is it', \"what's the address\", 'is it', 'yes', 'is the price can find', \"i don't care about price\", 'is it', ' ']\n",
      "{'no': 0, 'want the': 0, 'i need': 0, 'is': 0, 'is it': 0, \"what's the address\": 0, 'yes': 0, 'is the price can find': 0, \"i don't care about price\": 0, ' ': 0}\n",
      "-0.020440000000000003 0.2 0.2\n",
      "['north', 'is', 'what are two point ok start start mentioned is served also', 'could you give me', 'is do below', 'and the name of it', \"i are they are i don't\", 'ok good good', \"care do don't\", 'is it please', \"i don't the post code\", 'does it is it is', 'okay the it please', 'ok i looking i want restaurant and it should serve international food', 'the post code of it', \"i don't care but it\", \"ok is of food is it i'm looking to find a restaurant\", 'is it close the code looking', 'in the please food', 'what is the post code of', 'i would like ok good', 'the city where is it', 'of the city', \"are  that's perfect\"]\n",
      "{'north': 0, 'is': 0, 'what are two point ok start start mentioned is served also': 0, 'could you give me': 0, 'is do below': 0, 'and the name of it': 0, \"i are they are i don't\": 0, 'ok good good': 0, \"care do don't\": 0, 'is it please': 0, \"i don't the post code\": 0, 'does it is it is': 0, 'okay the it please': 0, 'ok i looking i want restaurant and it should serve international food': 0, 'the post code of it': 0, \"i don't care but it\": 0, \"ok is of food is it i'm looking to find a restaurant\": 0, 'is it close the code looking': 0, 'in the please food': 0, 'what is the post code of': 0, 'i would like ok good': 0, 'the city where is it': 0, 'of the city': 0, \"are  that's perfect\": 0}\n",
      "0.18746666666666667 0.4166666666666667 0.041666666666666664\n",
      "['', 'in', \"i'm looking for an expensive restaurant and it should serve in food\", 'thank you', 'any', \"i don't care\", 'can i get get a thank you', 'is it in', \"i don't care\", \"i'm looking for turkish food\", 'cash food', 'no', \"i don't care\", \"no i don't care\", \"don't care\", 'looking food', 'how like thai', 'is it', 'thai food', 'can uh for', 'and the address', 'number', 'phone number', 'the post code', 'food', 'phone number', 'uh', 'oh  ']\n",
      "{'': 0, 'in': 0, \"i'm looking for an expensive restaurant and it should serve in food\": 0, 'thank you': 0, 'any': 0, \"i don't care\": 0, 'can i get get a thank you': 0, 'is it in': 0, \"i'm looking for turkish food\": 0, 'cash food': 0, 'no': 0, \"no i don't care\": 0, \"don't care\": 0, 'looking food': 0, 'how like thai': 0, 'is it': 0, 'thai food': 0, 'can uh for': 0, 'and the address': 0, 'number': 0, 'phone number': 0, 'the post code': 0, 'food': 0, 'uh': 0, 'oh  ': 0}\n",
      "-0.016908 0.2 0.16\n",
      "['ok ok', 'ok good', 'ok what number ok brb i', 'is it goes it irish food', 'me the ']\n",
      "{'ok ok': 0, 'ok good': 0, 'ok what number ok brb i': 0, 'is it goes it irish food': 0, 'me the ': 0}\n",
      "0.3447 0.6 0.0\n",
      "[\"i'm looking for a moderately priced restaurant and it should serve clowns u\", 'any', \"i'm not from\", 'ok', 'what kind of', 'ok', 'is it', 'is it behind', \"i don't road\", 'asian oriental type ok where is', 'is that asian oriental i in', 'yes', 'ok', 'ok ok', \"what's the address\", 'the phone number', 'ok', 'what number', 'cheap', 'phone number', 'yeah', ' ']\n",
      "{\"i'm looking for a moderately priced restaurant and it should serve clowns u\": 0, 'any': 0, \"i'm not from\": 0, 'ok': 0, 'what kind of': 0, 'is it': 0, 'is it behind': 0, \"i don't road\": 0, 'asian oriental type ok where is': 0, 'is that asian oriental i in': 0, 'yes': 0, 'ok ok': 0, \"what's the address\": 0, 'the phone number': 0, 'what number': 0, 'cheap': 0, 'phone number': 0, 'yeah': 0, ' ': 0}\n",
      "0.10779999999999998 0.42105263157894735 0.0\n",
      "['yes', \"ok i'm looking for a moderately price restaurant it should serve polynesian do what\", 'oh i do', 'in the moderately price', 'yes', \"hello i'm looking for\", 'what looking', 'ok i looking type of food', 'no looking good', 'yes', 'talking food is ok', 'ok', 'do you', 'do you', 'yes', 'i looking type of food', 'looking for', ' ']\n",
      "{'yes': 0, \"ok i'm looking for a moderately price restaurant it should serve polynesian do what\": 0, 'oh i do': 0, 'in the moderately price': 0, \"hello i'm looking for\": 0, 'what looking': 0, 'ok i looking type of food': 0, 'no looking good': 0, 'talking food is ok': 0, 'ok': 0, 'do you': 0, 'i looking type of food': 0, 'looking for': 0, ' ': 0}\n",
      "0.12598571428571428 0.42857142857142855 0.0\n",
      "['the americas a', 'modern modern recognised on', 'north part of town', 'no', 'moderately', \"i'd like a moderately price\", 'yes', 'no', 'start over', 'where', 'what part of town', 'what part of town', 'i want the north part', 'no', 'ok moderately priced', 'restaurant', 'what is the start where', 'ok', 'ok anything else', \"and where's that located\", 'what part of town', 'thank you the north part', 'that will', 'thank you thank', 'ok', ' know ']\n",
      "{'the americas a': 0, 'modern modern recognised on': 0, 'north part of town': 0, 'no': 0, 'moderately': 0, \"i'd like a moderately price\": 0, 'yes': 0, 'start over': 0, 'where': 0, 'what part of town': 0, 'i want the north part': 0, 'ok moderately priced': 0, 'restaurant': 0, 'what is the start where': 0, 'ok': 0, 'ok anything else': 0, \"and where's that located\": 0, 'thank you the north part': 0, 'that will': 0, 'thank you thank': 0, ' know ': 0}\n",
      "0.11456666666666666 0.38095238095238093 0.047619047619047616\n",
      "['i need a cheap restaurant in the west part of town', 'um english', 'cheaper', 'okay', 'american', 'okay', 'basque', 'yes', 'no', 'yes', 'okay', 'back', ' ']\n",
      "{'i need a cheap restaurant in the west part of town': 0, 'um english': 0, 'cheaper': 0, 'okay': 0, 'american': 0, 'basque': 0, 'yes': 0, 'no': 0, 'back': 0, ' ': 0}\n",
      "0.03322 0.2 0.1\n",
      "['', '', \"doesn't matter\", 'does not matter', 'cheap', '', 'cheap', 'the', \"i don't care\", 'brazilian', 'gastropub', 'how about moderately price', ' ']\n",
      "{'': 0, \"doesn't matter\": 0, 'does not matter': 0, 'cheap': 0, 'the': 0, \"i don't care\": 0, 'brazilian': 0, 'gastropub': 0, 'how about moderately price': 0, ' ': 0}\n",
      "-0.042570000000000004 0.0 0.3\n",
      "['find a good restaurant', \"doesn't matter\", 'yes', \"can you you'll good\", 'unusual food', 'european food', 'cheap', ' ']\n",
      "{'find a good restaurant': 0, \"doesn't matter\": 0, 'yes': 0, \"can you you'll good\": 0, 'unusual food': 0, 'european food': 0, 'cheap': 0, ' ': 0}\n",
      "0.15794999999999998 0.375 0.125\n",
      "['moderate price', 'brazilian does', 'gastropub', 'address', 'phone number', 'the area', 'what is that can three', 'location', ' ']\n",
      "{'moderate price': 0, 'brazilian does': 0, 'gastropub': 0, 'address': 0, 'phone number': 0, 'the area': 0, 'what is that can three': 0, 'location': 0, ' ': 0}\n",
      "0.008577777777777778 0.1111111111111111 0.0\n",
      "['the polynesian food', 'thai', 'chinese food', 'polynesian', 'chinese', 'hi post code of', 'moderate', 'chinese food', 'hi', 'i like need', 'no', 'trying restaurant', 'no', ' ']\n",
      "{'the polynesian food': 0, 'thai': 0, 'chinese food': 0, 'polynesian': 0, 'chinese': 0, 'hi post code of': 0, 'moderate': 0, 'hi': 0, 'i like need': 0, 'no': 0, 'trying restaurant': 0, ' ': 0}\n"
     ]
    },
    {
     "name": "stdout",
     "output_type": "stream",
     "text": [
      "0.005433333333333336 0.08333333333333333 0.08333333333333333\n",
      "['', 'cheap restaurant gastro pub food', \"doesn't matter\", 'gastro pub', 'cheap gastro pub', 'type of food', 'gastro pub food', 'gastro pub moderate', 'cheap restaurant gastro', 'type of food', 'gastro pub', 'gastro pub food', 'gastropub', 'gastro pub', ' ']\n",
      "{'': 0, 'cheap restaurant gastro pub food': 0, \"doesn't matter\": 0, 'gastro pub': 0, 'cheap gastro pub': 0, 'type of food': 0, 'gastro pub food': 0, 'gastro pub moderate': 0, 'cheap restaurant gastro': 0, 'gastropub': 0, ' ': 0}\n",
      "-0.0017363636363636364 0.0 0.09090909090909091\n",
      "[\"i'm looking for a restaurant that serves bistro\", 'yes', 'how about turkish food', 'canapes tea shop average', 'not castle with', 'turkish will do', 'any area', 'i do not yeah', \"i'm looking for a like turkish type of restaurant\", 'canapes food restaurant', \"i'm looking for restaurant in any area that serves gastro full\", 'how about the um', 'type of who', 'ok  ']\n",
      "{\"i'm looking for a restaurant that serves bistro\": 0, 'yes': 0, 'how about turkish food': 0, 'canapes tea shop average': 0, 'not castle with': 0, 'turkish will do': 0, 'any area': 0, 'i do not yeah': 0, \"i'm looking for a like turkish type of restaurant\": 0, 'canapes food restaurant': 0, \"i'm looking for restaurant in any area that serves gastro full\": 0, 'how about the um': 0, 'type of who': 0, 'ok  ': 0}\n",
      "0.05968571428571428 0.21428571428571427 0.07142857142857142\n",
      "['north', 'greek', 'ok fine', \"i'm not korean\", 'could i find type of food', 'yes', ' ']\n",
      "{'north': 0, 'greek': 0, 'ok fine': 0, \"i'm not korean\": 0, 'could i find type of food': 0, 'yes': 0, ' ': 0}\n",
      "0.12295714285714286 0.2857142857142857 0.0\n",
      "['yeah indonesian food', 'town please', 'type of food', 'north', 'no', 'you', \"you'll\", \"i don't care\", 'yes', 'no', \"don't care\", 'italian will', \"i don't care\", 'do you know', \"i don't care\", 'works will system', 'yes', 'no', 'i do not care', \"don't care\", 'thank will ']\n",
      "{'yeah indonesian food': 0, 'town please': 0, 'type of food': 0, 'north': 0, 'no': 0, 'you': 0, \"you'll\": 0, \"i don't care\": 0, 'yes': 0, \"don't care\": 0, 'italian will': 0, 'do you know': 0, 'works will system': 0, 'i do not care': 0, 'thank will ': 0}\n",
      "-0.005413333333333337 0.26666666666666666 0.26666666666666666\n",
      "['yes', 'bistro', 'eastern', 'moderately priced', 'anything else', ' ']\n",
      "{'yes': 0, 'bistro': 0, 'eastern': 0, 'moderately priced': 0, 'anything else': 0, ' ': 0}\n",
      "0.06698333333333333 0.16666666666666666 0.0\n",
      "['can i need the restaurant please', 'any part of town', 'i need good', 'cheap', 'any price range', 'yes', 'cheap code there', ' ']\n",
      "{'can i need the restaurant please': 0, 'any part of town': 0, 'i need good': 0, 'cheap': 0, 'any price range': 0, 'yes': 0, 'cheap code there': 0, ' ': 0}\n",
      "0.14506249999999998 0.375 0.0\n",
      "[\"what's the price\", \"don't care\", 'moderate', 'address', 'and the telephone', 'telephone number', '', '']\n",
      "{\"what's the price\": 0, \"don't care\": 0, 'moderate': 0, 'address': 0, 'and the telephone': 0, 'telephone number': 0, '': 0}\n",
      "-0.04432857142857143 0.14285714285714285 0.14285714285714285\n",
      "['', 'um', \"don't care\", 'moderately priced', 'chinese food', 'address', 'telephone number', ' ']\n",
      "{'': 0, 'um': 0, \"don't care\": 0, 'moderately priced': 0, 'chinese food': 0, 'address': 0, 'telephone number': 0, ' ': 0}\n",
      "-0.0387875 0.125 0.125\n",
      "['any', 'japanese', \"i don't care\", 'any kind that', 'is that', 'that', 'any kind saying', 'do they serve', 'polish', 'polish', ' ']\n",
      "{'any': 0, 'japanese': 0, \"i don't care\": 0, 'any kind that': 0, 'is that': 0, 'that': 0, 'any kind saying': 0, 'do they serve': 0, 'polish': 0, ' ': 0}\n",
      "0.06659 0.2 0.1\n",
      "['', 'a', 'that', 'that please', 'yes', \"don't care\", 'smart gave', 'i want a', 'i say', 'i today', 'and so uh', \"what's the\", ' ']\n",
      "{'': 0, 'a': 0, 'that': 0, 'that please': 0, 'yes': 0, \"don't care\": 0, 'smart gave': 0, 'i want a': 0, 'i say': 0, 'i today': 0, 'and so uh': 0, \"what's the\": 0, ' ': 0}\n",
      "0.06243846153846154 0.3076923076923077 0.07692307692307693\n",
      "['a moderately price', \"don't care\", 'korean', 'english', \"and that's\", 'danish food', 'repeat', 'yeah', 'canapes', 'canapes', 'yes', 'yes', 'them lan', 'what kind of food is that', 'does what', 'yes', 'address', 'phone number', 'in', 'post code', ' ']\n",
      "{'a moderately price': 0, \"don't care\": 0, 'korean': 0, 'english': 0, \"and that's\": 0, 'danish food': 0, 'repeat': 0, 'yeah': 0, 'canapes': 0, 'yes': 0, 'them lan': 0, 'what kind of food is that': 0, 'does what': 0, 'address': 0, 'phone number': 0, 'in': 0, 'post code': 0, ' ': 0}\n",
      "0.02153333333333333 0.16666666666666666 0.05555555555555555\n",
      "['moderately priced', 'indian food', 'anything else', 'anything tell', \"is there any one i'll\", 'phone number', ' ']\n",
      "{'moderately priced': 0, 'indian food': 0, 'anything else': 0, 'anything tell': 0, \"is there any one i'll\": 0, 'phone number': 0, ' ': 0}\n",
      "0.01102857142857143 0.14285714285714285 0.0\n",
      "['i want a moderately priced restaurant in the west part of town', 'is there anything else', 'yes', 'is there anything else', 'is there anything', 'is there anything else', 'is there anything in town', 'i want a different', 'give me a different restaurant', '']\n",
      "{'i want a moderately priced restaurant in the west part of town': 0, 'is there anything else': 0, 'yes': 0, 'is there anything': 0, 'is there anything in town': 0, 'i want a different': 0, 'give me a different restaurant': 0, '': 0}\n",
      "0.0695375 0.375 0.0\n",
      "['cheap restaurant', 'centre', \"the i'm not in food um\", 'in the east', 'hello', 'vietnamese food', 'north', 'down', 'western', 'cambridge vietnam food', 'centre', 'east', 'hello', 'north eastern', 'western', 'centre', 'moderate', 'north', 'east', ' ']\n",
      "{'cheap restaurant': 0, 'centre': 0, \"the i'm not in food um\": 0, 'in the east': 0, 'hello': 0, 'vietnamese food': 0, 'north': 0, 'down': 0, 'western': 0, 'cambridge vietnam food': 0, 'east': 0, 'north eastern': 0, 'moderate': 0, ' ': 0}\n",
      "0.0 0.0 0.0\n",
      "['what shop any greek address japanese any bistro', 'yes internet talking ok', 'cantonese', 'ok', 'uh', 'ok it needs to', 'ok ok to eat', 'yes', 'can i am new east', \"i'm not\", 'hello', 'ok can code', 'ok', 'ok', 'ok thanks her', 'yes', 'thank you ok look allright', '', ' ']\n",
      "{'what shop any greek address japanese any bistro': 0, 'yes internet talking ok': 0, 'cantonese': 0, 'ok': 0, 'uh': 0, 'ok it needs to': 0, 'ok ok to eat': 0, 'yes': 0, 'can i am new east': 0, \"i'm not\": 0, 'hello': 0, 'ok can code': 0, 'ok thanks her': 0, 'thank you ok look allright': 0, '': 0, ' ': 0}\n",
      "0.22579999999999997 0.5 0.0\n",
      "['i want the post code', 'any', 'corsica', 'gastro pub', 'yes pub restaurant', 'yes restaurant', 'yes', 'no', 'what', 'yes shop pub', 'anything else gastro pub', 'yeah', '', ' ']\n",
      "{'i want the post code': 0, 'any': 0, 'corsica': 0, 'gastro pub': 0, 'yes pub restaurant': 0, 'yes restaurant': 0, 'yes': 0, 'no': 0, 'what': 0, 'yes shop pub': 0, 'anything else gastro pub': 0, 'yeah': 0, '': 0, ' ': 0}\n",
      "0.12034285714285713 0.42857142857142855 0.07142857142857142\n",
      "['cheap restaurant', 'european', ' ']\n",
      "{'cheap restaurant': 0, 'european': 0, ' ': 0}\n",
      "0.0 0.0 0.0\n",
      "['a restaurant in the east part of town that serves care you the', 'caribbean food', 'thank you it', ' good', ' good']\n",
      "{'a restaurant in the east part of town that serves care you the': 0, 'caribbean food': 0, 'thank you it': 0, ' good': 0}\n",
      "0.323875 0.75 0.0\n",
      "['what have a', 'can you area', \"i don't care\", 'greek', 'corsica', 'court', 'coke it is', 'call where it is', 'telephone', 'good', 'call where', 'could the code', 'well  ']\n",
      "{'what have a': 0, 'can you area': 0, \"i don't care\": 0, 'greek': 0, 'corsica': 0, 'court': 0, 'coke it is': 0, 'call where it is': 0, 'telephone': 0, 'good': 0, 'call where': 0, 'could the code': 0, 'well  ': 0}\n",
      "0.025084615384615386 0.15384615384615385 0.07692307692307693\n",
      "['cheap ok it', 'ok i need a', 'what kind of food', \"i'm looking\", 'what kind of it', \"ok i don't care\", 'what kind of food that there', 'is that', 'ok of food', 'what kind that that', 'ok', 'ok food', 'different kind of food', \"i don't mind\", \"i'm looking a i\", ' ']\n",
      "{'cheap ok it': 0, 'ok i need a': 0, 'what kind of food': 0, \"i'm looking\": 0, 'what kind of it': 0, \"ok i don't care\": 0, 'what kind of food that there': 0, 'is that': 0, 'ok of food': 0, 'what kind that that': 0, 'ok': 0, 'ok food': 0, 'different kind of food': 0, \"i don't mind\": 0, \"i'm looking a i\": 0, ' ': 0}\n",
      "0.11855625 0.375 0.0625\n"
     ]
    },
    {
     "name": "stdout",
     "output_type": "stream",
     "text": [
      "['can i order call word world turkish', \"let's start\", 'reduce', 'ok', 'british food', \"doesn't charge you school\", 'parking full', 'thank you', 'restaurant', 'ok you school', 'thank you ok', 'thank you ok', 'thank you', 'a bar', ' ']\n",
      "{'can i order call word world turkish': 0, \"let's start\": 0, 'reduce': 0, 'ok': 0, 'british food': 0, \"doesn't charge you school\": 0, 'parking full': 0, 'thank you': 0, 'restaurant': 0, 'ok you school': 0, 'thank you ok': 0, 'a bar': 0, ' ': 0}\n",
      "0.11731538461538463 0.3076923076923077 0.0\n",
      "['italian food', 'east', 'phone number', 'phone number', 'phone number', 'phone number', 'phone number', 'italian food', 'number', 'phone', 'are there', ' ']\n",
      "{'italian food': 0, 'east': 0, 'phone number': 0, 'number': 0, 'phone': 0, 'are there': 0, ' ': 0}\n",
      "0.02205714285714286 0.2857142857142857 0.0\n",
      "['ok', 'ok', 'ok ok can i will', 'b three', 'what is it free', 'could i', \"i don't phone this is the post code\", 'ok', 'do you well any of them we start over in', \"i don't\", 'ok ']\n",
      "{'ok': 0, 'ok ok can i will': 0, 'b three': 0, 'what is it free': 0, 'could i': 0, \"i don't phone this is the post code\": 0, 'do you well any of them we start over in': 0, \"i don't\": 0, 'ok ': 0}\n",
      "0.2113888888888889 0.5555555555555556 0.0\n",
      "['it to serve world food serving about food what number', 'the post code', 'cheap', 'good bye', '', '']\n",
      "{'it to serve world food serving about food what number': 0, 'the post code': 0, 'cheap': 0, 'good bye': 0, '': 0}\n",
      "0.10352000000000001 0.4 0.0\n",
      "['', 'phone', 'what bar', \"you what's the phone number of the bar\", 'cheap', 'goodbye', 'in', 'is please', 'thank you', 'thank you', 'no', '  ']\n",
      "{'': 0, 'phone': 0, 'what bar': 0, \"you what's the phone number of the bar\": 0, 'cheap': 0, 'goodbye': 0, 'in': 0, 'is please': 0, 'thank you': 0, 'no': 0, '  ': 0}\n",
      "0.04187272727272727 0.2727272727272727 0.09090909090909091\n",
      "[\"i'm looking for a cheap restaurant in the north of town\", 'is there anything else', 'sorry', 'is there any in town', 'is there any in town', 'what is the address', ' ']\n",
      "{\"i'm looking for a cheap restaurant in the north of town\": 0, 'is there anything else': 0, 'sorry': 0, 'is there any in town': 0, 'what is the address': 0, ' ': 0}\n",
      "-0.012866666666666667 0.0 0.16666666666666666\n",
      "[\"can cheap is efes restaurant you that's all\", 'any', 'seoul for', 'thank you', 'i would like a expensive', 'ok what part of town', 'and also the', 'phone number', 'is it located the area of the', \"sorry don't part of town\", \"don't care\", 'north', 'sells', \"where's\", 'are there', 'st', \"i don't care\", 'south', \"dish you'll good project\", 'the address', 'can also', \"you'll \"]\n",
      "{\"can cheap is efes restaurant you that's all\": 0, 'any': 0, 'seoul for': 0, 'thank you': 0, 'i would like a expensive': 0, 'ok what part of town': 0, 'and also the': 0, 'phone number': 0, 'is it located the area of the': 0, \"sorry don't part of town\": 0, \"don't care\": 0, 'north': 0, 'sells': 0, \"where's\": 0, 'are there': 0, 'st': 0, \"i don't care\": 0, 'south': 0, \"dish you'll good project\": 0, 'the address': 0, 'can also': 0, \"you'll \": 0}\n",
      "0.03108181818181818 0.22727272727272727 0.13636363636363635\n",
      "[\"i'm looking a good\", \"it doesn't matter\", 'vegetarian', 'how about greek food please', 'which please', 'how about greek food please', 'yes', 'yes', '']\n",
      "{\"i'm looking a good\": 0, \"it doesn't matter\": 0, 'vegetarian': 0, 'how about greek food please': 0, 'which please': 0, 'yes': 0, '': 0}\n",
      "0.2085142857142857 0.5714285714285714 0.14285714285714285\n",
      "['i am looking for a restaurant in the north part of town serving indian food', 'price range', 'i am looking for a restaurant in the north part of town serving indian food', 'is there anything else intermediate price range', 'is there anything in the cheap price range', 'what is the address and post code', 'i am looking for a restaurant in the north part of town serving indian food', \"i don't care\", 'and the address and post code', ' ']\n",
      "{'i am looking for a restaurant in the north part of town serving indian food': 0, 'price range': 0, 'is there anything else intermediate price range': 0, 'is there anything in the cheap price range': 0, 'what is the address and post code': 0, \"i don't care\": 0, 'and the address and post code': 0, ' ': 0}\n",
      "-0.0484375 0.0 0.125\n",
      "[\"i'm looking for a expensive restaurant serving town\", 'does it serve thailand food', 'i am looking for a expensive restaurant serving halal food', 'thailand food', 'okay probably food', 'halal food', 'yes', 'i am looking for a halal food', 'zealand food', 'care i want food', 'i am looking for telling', 'no', 'yes', 'i am looking for one in the expensive price', 'does it serve thailand please', 'what type of food does it serve', 'i am looking for catalan food', 'long though', 'bad', \"i'm looking for italian food\", 'yes', \"i don't care\", 'what is the address phone number and area', 'what area of town', ' ']\n",
      "{\"i'm looking for a expensive restaurant serving town\": 0, 'does it serve thailand food': 0, 'i am looking for a expensive restaurant serving halal food': 0, 'thailand food': 0, 'okay probably food': 0, 'halal food': 0, 'yes': 0, 'i am looking for a halal food': 0, 'zealand food': 0, 'care i want food': 0, 'i am looking for telling': 0, 'no': 0, 'i am looking for one in the expensive price': 0, 'does it serve thailand please': 0, 'what type of food does it serve': 0, 'i am looking for catalan food': 0, 'long though': 0, 'bad': 0, \"i'm looking for italian food\": 0, \"i don't care\": 0, 'what is the address phone number and area': 0, 'what area of town': 0, ' ': 0}\n",
      "0.014786956521739133 0.21739130434782608 0.13043478260869565\n",
      "['looking for cheaper looking for', 'guest barbeque food', 'yes', 'a european food', 'um', 'is there', 'right', 'yes', \"okay i don't care about price range\", 'ok extremely european food', 'expensive european food', 'expensive', 'perfect could you give me address', 'phone number', ' ']\n",
      "{'looking for cheaper looking for': 0, 'guest barbeque food': 0, 'yes': 0, 'a european food': 0, 'um': 0, 'is there': 0, 'right': 0, \"okay i don't care about price range\": 0, 'ok extremely european food': 0, 'expensive european food': 0, 'expensive': 0, 'perfect could you give me address': 0, 'phone number': 0, ' ': 0}\n",
      "0.08302142857142857 0.2857142857142857 0.07142857142857142\n",
      "[\"i'm looking for a moderately priced restaurant in the east part\", 'no', 'there another restaurant', \"i don't care\", 'is there a restaurant in the moderately price range in the east part of town', 'is there anything no', 'there any staying help', \"don't care there any help\", \"i don't care\", 'is there any in help', \"i don't care\", 'care', 'oh care', 'ok there', 'is there any help', 'do you know', \"i don't care\", \"i don't care\", \"don't care\", 'is there another', \"don't care\", 'is there any help', 'is there any', ' good']\n",
      "{\"i'm looking for a moderately priced restaurant in the east part\": 0, 'no': 0, 'there another restaurant': 0, \"i don't care\": 0, 'is there a restaurant in the moderately price range in the east part of town': 0, 'is there anything no': 0, 'there any staying help': 0, \"don't care there any help\": 0, 'is there any in help': 0, 'care': 0, 'oh care': 0, 'ok there': 0, 'is there any help': 0, 'do you know': 0, \"don't care\": 0, 'is there another': 0, 'is there any': 0, ' good': 0}\n",
      "0.0878611111111111 0.4444444444444444 0.2222222222222222\n",
      "['what well', 'no cheap restaurant', 'no shop', 'no', 'cheap', 'any', 'no', 'yes', 'no', 'no', 'no', 'south part of town', 'anything else', 'so', 'phone number', ' ']\n",
      "{'what well': 0, 'no cheap restaurant': 0, 'no shop': 0, 'no': 0, 'cheap': 0, 'any': 0, 'yes': 0, 'south part of town': 0, 'anything else': 0, 'so': 0, 'phone number': 0, ' ': 0}\n",
      "-0.011308333333333337 0.25 0.25\n",
      "[\"hi i'm looking for a restaurant near north what's on that serves sorry cool\", 'thai', 'the to north what mahal', 'north part of town', 'what is the west area', 'what you what is their what area', 'ok away', \"call pub what's what's the area\", \"very you'll \"]\n",
      "{\"hi i'm looking for a restaurant near north what's on that serves sorry cool\": 0, 'thai': 0, 'the to north what mahal': 0, 'north part of town': 0, 'what is the west area': 0, 'what you what is their what area': 0, 'ok away': 0, \"call pub what's what's the area\": 0, \"very you'll \": 0}\n",
      "0.060666666666666674 0.2222222222222222 0.0\n"
     ]
    },
    {
     "name": "stdout",
     "output_type": "stream",
     "text": [
      "['i want to find a restaurant', 'a cheaper bar', \"i don't care\", \"no i'm looking for one\", 'the cheap', 'pub', \"i'm looking for a cheap restaurant in the west part of town\", 'see', 'can i have the address and the', 'what', \"what's the post code\", \"what's the address again\", ' ']\n",
      "{'i want to find a restaurant': 0, 'a cheaper bar': 0, \"i don't care\": 0, \"no i'm looking for one\": 0, 'the cheap': 0, 'pub': 0, \"i'm looking for a cheap restaurant in the west part of town\": 0, 'see': 0, 'can i have the address and the': 0, 'what': 0, \"what's the post code\": 0, \"what's the address again\": 0, ' ': 0}\n",
      "-0.046638461538461545 0.07692307692307693 0.15384615384615385\n",
      "['for restaurant in the centre', 'polynesian food', 'malaysian food', 'yes', 'british food', 'yes', 'british food', 'yes', 'british food', 'yes', ' ']\n",
      "{'for restaurant in the centre': 0, 'polynesian food': 0, 'malaysian food': 0, 'yes': 0, 'british food': 0, ' ': 0}\n",
      "0.06698333333333333 0.16666666666666666 0.0\n",
      "['vietnamese food', 'cantonese food', 'north american food', 'north american type of food', 'any area', 'no', 'south of town', 'yes right', 'east of town', 'west of town', 'right', ' ']\n",
      "{'vietnamese food': 0, 'cantonese food': 0, 'north american food': 0, 'north american type of food': 0, 'any area': 0, 'no': 0, 'south of town': 0, 'yes right': 0, 'east of town': 0, 'west of town': 0, 'right': 0, ' ': 0}\n",
      "0.008825 0.08333333333333333 0.08333333333333333\n",
      "[\"ok what's your\", 'cheap', 'yes', 'right', 'what are you food', 'what are your food please', 'indian food', \"what's the missing sock\", 'do you anything else besides your yourself', 'portuguese food', 'barbeque food', 'yes', 'no', 'cost range', 'indian food', '', ' ']\n",
      "{\"ok what's your\": 0, 'cheap': 0, 'yes': 0, 'right': 0, 'what are you food': 0, 'what are your food please': 0, 'indian food': 0, \"what's the missing sock\": 0, 'do you anything else besides your yourself': 0, 'portuguese food': 0, 'barbeque food': 0, 'no': 0, 'cost range': 0, '': 0, ' ': 0}\n",
      "0.02827333333333333 0.2 0.13333333333333333\n",
      "[\"what i'm looking for a cheap restaurant part there\", 'east', \"what's the address\", '']\n",
      "{\"what i'm looking for a cheap restaurant part there\": 0, 'east': 0, \"what's the address\": 0, '': 0}\n",
      "0.0 0.0 0.0\n",
      "[\"i'm looking for a cheap german food\", 'what about european food', 'how about european food', \"i'm looking for a restaurant that serves european food\", 'yes', ' ']\n",
      "{\"i'm looking for a cheap german food\": 0, 'what about european food': 0, 'how about european food': 0, \"i'm looking for a restaurant that serves european food\": 0, 'yes': 0, ' ': 0}\n",
      "0.06698333333333333 0.16666666666666666 0.0\n",
      "[\"i'm looking for a restaurant in the eastern of the type of town serving austrian food\", 'pub what you their post code', 'is there is no such menu call what you the post code', 'indian take code', 'there is no essentially would you give the post code', 'yes that will court', 'can i get a post code', \"i'm looking for a restaurant in the southern part of town serving get the post code\", 'and what', ' ']\n",
      "{\"i'm looking for a restaurant in the eastern of the type of town serving austrian food\": 0, 'pub what you their post code': 0, 'is there is no such menu call what you the post code': 0, 'indian take code': 0, 'there is no essentially would you give the post code': 0, 'yes that will court': 0, 'can i get a post code': 0, \"i'm looking for a restaurant in the southern part of town serving get the post code\": 0, 'and what': 0, ' ': 0}\n",
      "-0.01901 0.1 0.2\n",
      "[\"um i'm looking for a restaurant in the north of the code serving lebanese food\", 'yes', 'pub with again and the post code', \"okay that's also actually menu address and post code\", 'bistro restaurant in the north part of town serving any typical court', \"i'm looking for a restaurant in the ok ok post code of the got and the post code\", 'no', ' ']\n",
      "{\"um i'm looking for a restaurant in the north of the code serving lebanese food\": 0, 'yes': 0, 'pub with again and the post code': 0, \"okay that's also actually menu address and post code\": 0, 'bistro restaurant in the north part of town serving any typical court': 0, \"i'm looking for a restaurant in the ok ok post code of the got and the post code\": 0, 'no': 0, ' ': 0}\n",
      "0.1073625 0.375 0.125\n",
      "['a moderately', 'well where', \"moderately priced west i couldn't\", 'i', 'price', 'north part of town', \"i don't\", \"i don't j\", \"i don't\", ' ']\n",
      "{'a moderately': 0, 'well where': 0, \"moderately priced west i couldn't\": 0, 'i': 0, 'price': 0, 'north part of town': 0, \"i don't\": 0, \"i don't j\": 0, ' ': 0}\n",
      "0.030355555555555556 0.1111111111111111 0.0\n",
      "[\"yeah middle restaurant and i don't alone italian food\", 'can i', 'i got and', \"i don't\", \"i don't alone and\", 'hum', \"i don't price\", ' ']\n",
      "{\"yeah middle restaurant and i don't alone italian food\": 0, 'can i': 0, 'i got and': 0, \"i don't\": 0, \"i don't alone and\": 0, 'hum': 0, \"i don't price\": 0, ' ': 0}\n",
      "0.07945 0.25 0.0\n",
      "['', 'international', 'ok', \"north part of the don't\", \"ok i i don't\", 'italian food', 'not italian food', \"i don't and\", \"i don't\", \"i don't\", 'address', 'phone number', ' ']\n",
      "{'': 0, 'international': 0, 'ok': 0, \"north part of the don't\": 0, \"ok i i don't\": 0, 'italian food': 0, 'not italian food': 0, \"i don't and\": 0, \"i don't\": 0, 'address': 0, 'phone number': 0, ' ': 0}\n",
      "0.055766666666666666 0.25 0.0\n",
      "[\"ok i won't go\", \"i don't\", \"i don't\", \"i don't\", 'the phone number', 'i to for one in the noon', 'ok um  ']\n",
      "{\"ok i won't go\": 0, \"i don't\": 0, 'the phone number': 0, 'i to for one in the noon': 0, 'ok um  ': 0}\n",
      "0.13384000000000001 0.6 0.0\n",
      "['expensive restaurant and it', 'hello i am', \"i don't\", 'i got', 'address', 'phone number', 'phone number', 'area', \"i don't\", 'hum  ']\n",
      "{'expensive restaurant and it': 0, 'hello i am': 0, \"i don't\": 0, 'i got': 0, 'address': 0, 'phone number': 0, 'area': 0, 'hum  ': 0}\n",
      "0.00965 0.125 0.0\n",
      "['in the cheap city please', 'cheap restaurant', 'can you', 'thank you', 'cheap', 'i want to eat what kind of food', 'pub', 'in', 'address', 'um', 'can', 'no', 'no', '', '']\n",
      "{'in the cheap city please': 0, 'cheap restaurant': 0, 'can you': 0, 'thank you': 0, 'cheap': 0, 'i want to eat what kind of food': 0, 'pub': 0, 'in': 0, 'address': 0, 'um': 0, 'can': 0, 'no': 0, '': 0}\n",
      "0.03543076923076924 0.23076923076923078 0.07692307692307693\n",
      "[\"i'm looking for a indian food\", 'can i town', 'yes', 'cheap', 'in the main', \"i'm done thank you\", 'okay', 'okay ']\n",
      "{\"i'm looking for a indian food\": 0, 'can i town': 0, 'yes': 0, 'cheap': 0, 'in the main': 0, \"i'm done thank you\": 0, 'okay': 0, 'okay ': 0}\n",
      "0.1519625 0.5 0.0\n",
      "[\"i'm looking for a restaurant\", 'in the north price um', 'thank you do food', 'european', 'uh centre area', 'no', 'no', \"i'm looking for a european restaurant in centre area\", ' ']\n",
      "{\"i'm looking for a restaurant\": 0, 'in the north price um': 0, 'thank you do food': 0, 'european': 0, 'uh centre area': 0, 'no': 0, \"i'm looking for a european restaurant in centre area\": 0, ' ': 0}\n",
      "0.008150000000000004 0.125 0.125\n",
      "['i irish food', 'european', 'any part of town', 'east', ' ']\n",
      "{'i irish food': 0, 'european': 0, 'any part of town': 0, 'east': 0, ' ': 0}\n",
      "0.0 0.0 0.0\n",
      "['uh i want to find a cheap restaurant that serves', 'any', 'kosher', 'how about modern european food', ' ']\n",
      "{'uh i want to find a cheap restaurant that serves': 0, 'any': 0, 'kosher': 0, 'how about modern european food': 0, ' ': 0}\n",
      "0.01544 0.2 0.0\n",
      "[\"i'm looking for a moderately priced restaurant that serves can\", 'is it', 'no', \"no i'm looking for a moderately priced restaurant that\", 'no', 'no', 'can i serves food', 'can i have uh', 'are there any', 'are there any restaurant that serves indian', 'can i have the address and phone number please', ' ']\n",
      "{\"i'm looking for a moderately priced restaurant that serves can\": 0, 'is it': 0, 'no': 0, \"no i'm looking for a moderately priced restaurant that\": 0, 'can i serves food': 0, 'can i have uh': 0, 'are there any': 0, 'are there any restaurant that serves indian': 0, 'can i have the address and phone number please': 0, ' ': 0}\n",
      "-0.02102 0.1 0.2\n",
      "[\"i'm looking for a cheap restaurant that serves malaysian food\", 'where is that serves european food', ' ']\n",
      "{\"i'm looking for a cheap restaurant that serves malaysian food\": 0, 'where is that serves european food': 0, ' ': 0}\n",
      "0.0 0.0 0.0\n",
      "[\"i'm looking for a moderately priced rest\", 'any part of town', 'brazilian', 'what about gastropub food', 'what about gastro gastropub type', 'can i have the address phone number and area', 'in the east part of town west part of town', ' ']\n",
      "{\"i'm looking for a moderately priced rest\": 0, 'any part of town': 0, 'brazilian': 0, 'what about gastropub food': 0, 'what about gastro gastropub type': 0, 'can i have the address phone number and area': 0, 'in the east part of town west part of town': 0, ' ': 0}\n",
      "0.00965 0.125 0.0\n"
     ]
    },
    {
     "name": "stdout",
     "output_type": "stream",
     "text": [
      "['looking for a expensive restaurant that serves korean', \"i'm sorry that be\", 'is there expensive', 'is there one that serves free food', 'the phone number and post code please', ' ']\n",
      "{'looking for a expensive restaurant that serves korean': 0, \"i'm sorry that be\": 0, 'is there expensive': 0, 'is there one that serves free food': 0, 'the phone number and post code please': 0, ' ': 0}\n",
      "0.13586666666666666 0.3333333333333333 0.16666666666666666\n",
      "['ok are restaurant that serves turkish food', 'is there any other restaurants turkish food', 'yes', 'are there any other restaurant that serves turkish', 'address the address and the post code please', ' ']\n",
      "{'ok are restaurant that serves turkish food': 0, 'is there any other restaurants turkish food': 0, 'yes': 0, 'are there any other restaurant that serves turkish': 0, 'address the address and the post code please': 0, ' ': 0}\n",
      "0.16935 0.5 0.0\n",
      "['ah because find centre part of town that serves to we korean and now', \"i'm not korean go delete area\", 'not korean', 'ok', 'what about direction korean some gastro else', ' ']\n",
      "{'ah because find centre part of town that serves to we korean and now': 0, \"i'm not korean go delete area\": 0, 'not korean': 0, 'ok': 0, 'what about direction korean some gastro else': 0, ' ': 0}\n",
      "0.04933333333333333 0.16666666666666666 0.0\n",
      "['yes and north part of um', 'yes', 'turkish food', 'british food', 'no', 'turkish north part of town', ' ']\n",
      "{'yes and north part of um': 0, 'yes': 0, 'turkish food': 0, 'british food': 0, 'no': 0, 'turkish north part of town': 0, ' ': 0}\n",
      "0.07254285714285715 0.2857142857142857 0.14285714285714285\n",
      "['yeah moderately priced restaurant', 'any', 'welsh food', 'gastro pub', 'gastro pub', ' ']\n",
      "{'yeah moderately priced restaurant': 0, 'any': 0, 'welsh food': 0, 'gastro pub': 0, ' ': 0}\n",
      "0.059199999999999996 0.2 0.0\n",
      "['can you ok ok what code ok', 'okay', 'ok', 'ok', 'ok', 'ok', 'ok', '', 'give post', 'thank you there', 'you could you', \"ok  i don't\", '']\n",
      "{'can you ok ok what code ok': 0, 'okay': 0, 'ok': 0, '': 0, 'give post': 0, 'thank you there': 0, 'you could you': 0, \"ok  i don't\": 0}\n",
      "0.2325375 0.625 0.0\n",
      "['ok what', 'is it is', 'repeat', 'j j', 'cheap', 'ok', 'can i have a cafe', 'in the cheap price', 'can i can you that', 'address the', 'ok', 'ok', 'phone number', ' ']\n",
      "{'ok what': 0, 'is it is': 0, 'repeat': 0, 'j j': 0, 'cheap': 0, 'ok': 0, 'can i have a cafe': 0, 'in the cheap price': 0, 'can i can you that': 0, 'address the': 0, 'phone number': 0, ' ': 0}\n",
      "0.055766666666666666 0.25 0.0\n",
      "['', 'no', \"i'm looking a pub\", 'that', 'no', 'no', 'centre', 'restaurant', 'in a', 'uh address', 'oh well food', ' ']\n",
      "{'': 0, 'no': 0, \"i'm looking a pub\": 0, 'that': 0, 'centre': 0, 'restaurant': 0, 'in a': 0, 'uh address': 0, 'oh well food': 0, ' ': 0}\n",
      "-0.0022799999999999986 0.1 0.1\n",
      "['no', 'no', 'yes', 'seafood', 'italian food', 'no', 'town', 'okay the town', '', 'is it', 'no', 'address', 'phone number', 'thank you', 'is it', 'cheap', 'goodbye', 'african food', 'uh', '']\n",
      "{'no': 0, 'yes': 0, 'seafood': 0, 'italian food': 0, 'town': 0, 'okay the town': 0, '': 0, 'is it': 0, 'address': 0, 'phone number': 0, 'thank you': 0, 'cheap': 0, 'goodbye': 0, 'african food': 0, 'uh': 0}\n",
      "0.05137333333333333 0.26666666666666666 0.06666666666666667\n",
      "['the expensive restaurant tuscan food', 'can have phone', 'hi phone number', 'the type of food', 'okay change restaurant', 'no', 'ok a', 'thank you', 'can know good bye pub cafe', 'where', 'bar good bar', 'and', 'ok do to it', 'the post code', 'moderate', 'you ']\n",
      "{'the expensive restaurant tuscan food': 0, 'can have phone': 0, 'hi phone number': 0, 'the type of food': 0, 'okay change restaurant': 0, 'no': 0, 'ok a': 0, 'thank you': 0, 'can know good bye pub cafe': 0, 'where': 0, 'bar good bar': 0, 'and': 0, 'ok do to it': 0, 'the post code': 0, 'moderate': 0, 'you ': 0}\n",
      "0.11509375000000001 0.4375 0.0625\n",
      "[\"i'm looking for a restaurant in phone food serves romanian food\", '', 'me', \"is and i don't care\", 'ok can its address and phone number', ' ']\n",
      "{\"i'm looking for a restaurant in phone food serves romanian food\": 0, '': 0, 'me': 0, \"is and i don't care\": 0, 'ok can its address and phone number': 0, ' ': 0}\n",
      "-0.004383333333333332 0.16666666666666666 0.16666666666666666\n",
      "['am looking for a restaurant alimentum', \"don't care\", 'romanian', 'how about', 'and the phone number and price range', 'budget price range', 'care of town', ' ']\n",
      "{'am looking for a restaurant alimentum': 0, \"don't care\": 0, 'romanian': 0, 'how about': 0, 'and the phone number and price range': 0, 'budget price range': 0, 'care of town': 0, ' ': 0}\n",
      "0.022949999999999998 0.25 0.125\n",
      "['can i get a expensive', 'expensive restaurant', 'cantonese food', 'north american', 'no', 'no', 'yes', 'no', 'no', 'yes', 'and', 'cantonese food', 'north american food', 'north american food', 'north american food', 'north american', 'in the north american', 'north american', 'yes', 'north american will tour expensive', ' ']\n",
      "{'can i get a expensive': 0, 'expensive restaurant': 0, 'cantonese food': 0, 'north american': 0, 'no': 0, 'yes': 0, 'and': 0, 'north american food': 0, 'in the north american': 0, 'north american will tour expensive': 0, ' ': 0}\n",
      "0.009627272727272727 0.09090909090909091 0.09090909090909091\n",
      "['could i want what there moderately priced restaurant in the south of town', 'moderately priced', 'is there anything else', 'can i have the phone number', \"what's the type\", 'before pub the menu', 'type of food', 'anything else', 'for of the venue', 'anything else', 'anything else', \"on moderately price restaurant in so i'll\", 'anything else', 'for number and for', 'price', 'for type', 'phone number', '', '']\n",
      "{'could i want what there moderately priced restaurant in the south of town': 0, 'moderately priced': 0, 'is there anything else': 0, 'can i have the phone number': 0, \"what's the type\": 0, 'before pub the menu': 0, 'type of food': 0, 'anything else': 0, 'for of the venue': 0, \"on moderately price restaurant in so i'll\": 0, 'for number and for': 0, 'price': 0, 'for type': 0, 'phone number': 0, '': 0}\n",
      "0.020586666666666666 0.26666666666666666 0.0\n",
      "['yes can i have a restaurant who', 'cheap', 'european', 'european food any price', 'okay can i have european food', 'any price range', 'uh european food', 'can i have european food', 'can i have the in any price range', 'and its in the price range', \"don't care\", 'any price range', 'any price range']\n",
      "{'yes can i have a restaurant who': 0, 'cheap': 0, 'european': 0, 'european food any price': 0, 'okay can i have european food': 0, 'any price range': 0, 'uh european food': 0, 'can i have european food': 0, 'can i have the in any price range': 0, 'and its in the price range': 0, \"don't care\": 0}\n",
      "0.02188181818181818 0.18181818181818182 0.09090909090909091\n",
      "['hi i like a restaurant in the uh centre that serves danish food', 'yes', 'how about a restaurant that serves scottish food', 'how about a restaurant that serves chinese food', \"hi i'd like chinese food\", \"i don't care like try again\", 'chinese food', 'i like the type of food', 'thank you hill', \"thank you don't\", 'stop', 'start over', 'try again', 'i like it to be go find that serves polish food', \"i'd like chinese food\", \"i'd like a chinese food\", \"i'd like chinese food\", ' ']\n",
      "{'hi i like a restaurant in the uh centre that serves danish food': 0, 'yes': 0, 'how about a restaurant that serves scottish food': 0, 'how about a restaurant that serves chinese food': 0, \"hi i'd like chinese food\": 0, \"i don't care like try again\": 0, 'chinese food': 0, 'i like the type of food': 0, 'thank you hill': 0, \"thank you don't\": 0, 'stop': 0, 'start over': 0, 'try again': 0, 'i like it to be go find that serves polish food': 0, \"i'd like chinese food\": 0, \"i'd like a chinese food\": 0, ' ': 0}\n",
      "0.14224705882352942 0.5294117647058824 0.11764705882352941\n",
      "[\"don't you go\", 'moderate', 'ok', \"ok ok ok there i don't care\", 'japanese', 'expensive', 'ok', '', 'are there', \"i'm look\", \"i don't the number\", ' ']\n",
      "{\"don't you go\": 0, 'moderate': 0, 'ok': 0, \"ok ok ok there i don't care\": 0, 'japanese': 0, 'expensive': 0, '': 0, 'are there': 0, \"i'm look\": 0, \"i don't the number\": 0, ' ': 0}\n",
      "0.06295454545454546 0.18181818181818182 0.09090909090909091\n",
      "['thank you priced', 'north', 'moderate', 'address', 'phone number', 'call', 'okay', ' ']\n",
      "{'thank you priced': 0, 'north': 0, 'moderate': 0, 'address': 0, 'phone number': 0, 'call': 0, 'okay': 0, ' ': 0}\n",
      "0.08308750000000001 0.375 0.0\n",
      "['', 'the', 'you', '']\n",
      "{'': 0, 'the': 0, 'you': 0}\n",
      "0.0 0.0 0.0\n",
      "['can you restaurant serving cheap please', 'north', 'asian oriental food', 'price does not matter', 'yes', 'what is a cuban food', ' ']\n",
      "{'can you restaurant serving cheap please': 0, 'north': 0, 'asian oriental food': 0, 'price does not matter': 0, 'yes': 0, 'what is a cuban food': 0, ' ': 0}\n",
      "0.10014285714285713 0.2857142857142857 0.14285714285714285\n",
      "[\"ah don't good\", \"don't care\", 'well', 'does welsh', 'does it cost', 'well', \"don't care\", 'i am looking for a restaurant serving afghan to the', ' ']\n",
      "{\"ah don't good\": 0, \"don't care\": 0, 'well': 0, 'does welsh': 0, 'does it cost': 0, 'i am looking for a restaurant serving afghan to the': 0, ' ': 0}\n"
     ]
    },
    {
     "name": "stdout",
     "output_type": "stream",
     "text": [
      "-0.06507142857142857 0.14285714285714285 0.2857142857142857\n",
      "['west', 'no', 'no', 'no', 'range', 'no', 'no', \"don't care\", 'french food', 'address', 'phone number', ' ']\n",
      "{'west': 0, 'no': 0, 'range': 0, \"don't care\": 0, 'french food': 0, 'address': 0, 'phone number': 0, ' ': 0}\n",
      "-0.0757875 0.125 0.25\n",
      "['', \"i don't care\", 'town', 'address', 'turkish', 'moderate', 'restaurant', 'phone number', 'post code', ' ']\n",
      "{'': 0, \"i don't care\": 0, 'town': 0, 'address': 0, 'turkish': 0, 'moderate': 0, 'restaurant': 0, 'phone number': 0, 'post code': 0, ' ': 0}\n",
      "-0.031030000000000002 0.1 0.1\n",
      "['ok cheap restaurant', 'east', 'address', 'food', 'there', ' ']\n",
      "{'ok cheap restaurant': 0, 'east': 0, 'address': 0, 'food': 0, 'there': 0, ' ': 0}\n",
      "0.04933333333333333 0.16666666666666666 0.0\n",
      "['cheap restaurant', \"don't care\", ' ']\n",
      "{'cheap restaurant': 0, \"don't care\": 0, ' ': 0}\n",
      "-0.12916666666666668 0.0 0.3333333333333333\n",
      "[\"i'm looking for a expensive restaurant\", \"that's good\", \"i'm looking for a expensive restaurant and it should be cheap\", \"what's the post code\", ' ']\n",
      "{\"i'm looking for a expensive restaurant\": 0, \"that's good\": 0, \"i'm looking for a expensive restaurant and it should be cheap\": 0, \"what's the post code\": 0, ' ': 0}\n",
      "0.08808 0.2 0.0\n",
      "['i want to find a restaurant in the west of system food', 'german food', 'how about british food', ' ']\n",
      "{'i want to find a restaurant in the west of system food': 0, 'german food': 0, 'how about british food': 0, ' ': 0}\n",
      "0.0193 0.25 0.0\n",
      "[\"i'm looking for a cheap restaurant in the west part\", 'anything else', 'yes', 'anything else', 'anything else', 'is there anything else', \"what's the address\", 'anything else', ' ']\n",
      "{\"i'm looking for a cheap restaurant in the west part\": 0, 'anything else': 0, 'yes': 0, 'is there anything else': 0, \"what's the address\": 0, ' ': 0}\n",
      "0.06698333333333333 0.16666666666666666 0.0\n",
      "['i would like a cheap restaurant spanish', 'i would like a cheap restaurant it should serve', 'german food', 'the', 'how about european food', 'what type of food', 'how about european food', 'okay', 'what', 'yes', 'yeah', 'okay', 'uh portuguese food', 'may i have the address and phone number', 'thank you', 'may i have the phone number', 'perfect', '', '']\n",
      "{'i would like a cheap restaurant spanish': 0, 'i would like a cheap restaurant it should serve': 0, 'german food': 0, 'the': 0, 'how about european food': 0, 'what type of food': 0, 'okay': 0, 'what': 0, 'yes': 0, 'yeah': 0, 'uh portuguese food': 0, 'may i have the address and phone number': 0, 'thank you': 0, 'may i have the phone number': 0, 'perfect': 0, '': 0}\n",
      "0.17088124999999998 0.5625 0.0\n",
      "[\"i'm looking for moderately price restaurant in the south what's\", 'moderately priced', \"what's the\", 'ok you tell', 'okay', 'worry can', \"that shop for i'll\", 'what again', \"i'm looking for moderately priced restaurant\", 'okay', 'not the address', 'you can this ok what ok twelve', 'can i before global', \"what's the phone number\", 'tea shop what of town', ' ']\n",
      "{\"i'm looking for moderately price restaurant in the south what's\": 0, 'moderately priced': 0, \"what's the\": 0, 'ok you tell': 0, 'okay': 0, 'worry can': 0, \"that shop for i'll\": 0, 'what again': 0, \"i'm looking for moderately priced restaurant\": 0, 'not the address': 0, 'you can this ok what ok twelve': 0, 'can i before global': 0, \"what's the phone number\": 0, 'tea shop what of town': 0, ' ': 0}\n",
      "0.05143333333333334 0.26666666666666666 0.06666666666666667\n",
      "[\"i'm looking for works on the first your you'll\", \"i don't care\", 'unusual', 'what european cool', 'drop your for', 'i would like', 'european', \"i don't care\", 'can i have the address', 'what the for number', 'which affordable', 'helpful long ok', 'of before number', ' ']\n",
      "{\"i'm looking for works on the first your you'll\": 0, \"i don't care\": 0, 'unusual': 0, 'what european cool': 0, 'drop your for': 0, 'i would like': 0, 'european': 0, 'can i have the address': 0, 'what the for number': 0, 'which affordable': 0, 'helpful long ok': 0, 'of before number': 0, ' ': 0}\n",
      "0.06042307692307693 0.38461538461538464 0.15384615384615385\n",
      "['the polish food', 'north american', 'north american food', 'tonight', 'expensive restaurant', 'expensive restaurant', 'no', 'good']\n",
      "{'the polish food': 0, 'north american': 0, 'north american food': 0, 'tonight': 0, 'expensive restaurant': 0, 'no': 0, 'good': 0}\n",
      "0.020628571428571434 0.14285714285714285 0.14285714285714285\n",
      "['a restaurant in the centre', 'afghan', 'thai food', 'how about the kind of food', 'address', 'phone number', 'what type of food', '']\n",
      "{'a restaurant in the centre': 0, 'afghan': 0, 'thai food': 0, 'how about the kind of food': 0, 'address': 0, 'phone number': 0, 'what type of food': 0, '': 0}\n",
      "0.00965 0.125 0.0\n",
      "[\"i'm looking for a expensive restaurant in the south part of town\", 'any kind', \"what's the price range\", 'in any other restaurant', 'no', 'no', 'the number', 'do you a', ' ']\n",
      "{\"i'm looking for a expensive restaurant in the south part of town\": 0, 'any kind': 0, \"what's the price range\": 0, 'in any other restaurant': 0, 'no': 0, 'the number': 0, 'do you a': 0, ' ': 0}\n",
      "0.038487499999999994 0.25 0.125\n",
      "[\"i'm looking for a moderately priced restaurant in the east part of halal\", \"i don't care\", \"i'm looking very moderate week sorry western part\", 'in the', 'part', 'moderately priced west or you please find', '', '']\n",
      "{\"i'm looking for a moderately priced restaurant in the east part of halal\": 0, \"i don't care\": 0, \"i'm looking very moderate week sorry western part\": 0, 'in the': 0, 'part': 0, 'moderately priced west or you please find': 0, '': 0}\n",
      "-0.03047142857142857 0.14285714285714285 0.2857142857142857\n",
      "['hi', 'ok street', 'coffee shop according', 'ok', 'next', 'ok cocktail any part of town', 'cheap restaurant', 'south', 'centre', 'south', 'on the phone number', 'address', 'type of food', 'code', 'correct', 'middle', 'ok', 'ok can i have kosher', 'you  ']\n",
      "{'hi': 0, 'ok street': 0, 'coffee shop according': 0, 'ok': 0, 'next': 0, 'ok cocktail any part of town': 0, 'cheap restaurant': 0, 'south': 0, 'centre': 0, 'on the phone number': 0, 'address': 0, 'type of food': 0, 'code': 0, 'correct': 0, 'middle': 0, 'ok can i have kosher': 0, 'you  ': 0}\n",
      "0.07418823529411764 0.29411764705882354 0.0\n",
      "['for', 'north', 'swiss', 'asian', 'asian', \"i don't care\", 'yes', 'no', \"i don't care\", 'asian', 'no', 'yes', 'no', ' ']\n",
      "{'for': 0, 'north': 0, 'swiss': 0, 'asian': 0, \"i don't care\": 0, 'yes': 0, 'no': 0, ' ': 0}\n",
      "-0.0352 0.125 0.25\n",
      "['what area', 'moderate', 'any', 'east', 'anything else', 'phone number', 'phone number', 'phone number', ' ']\n",
      "{'what area': 0, 'moderate': 0, 'any': 0, 'east': 0, 'anything else': 0, 'phone number': 0, ' ': 0}\n",
      "0.01102857142857143 0.14285714285714285 0.0\n",
      "['and that', 'ah', 'west', 'chinese', 'yes', 'bye', 'chinese food', 'yes', 'how about tiny', 'days and', 'address', 'chinese', 'yes', ' ']\n",
      "{'and that': 0, 'ah': 0, 'west': 0, 'chinese': 0, 'yes': 0, 'bye': 0, 'chinese food': 0, 'how about tiny': 0, 'days and': 0, 'address': 0, ' ': 0}\n",
      "0.03653636363636364 0.09090909090909091 0.0\n",
      "['cheap restaurant', 'and which please', 'um', 'what area seem food', 'what type of food', 'though', 'food do they serve irish korean food', 'for vietnamese food', 'do you know millers serves world', 'area change', 'um', 'is it', 'on served irish theme from', 'irish korean food', 'very area', 'reach them', 'uh in area', 'of the avenue', 'phone number', 'what type of food', ' ']\n",
      "{'cheap restaurant': 0, 'and which please': 0, 'um': 0, 'what area seem food': 0, 'what type of food': 0, 'though': 0, 'food do they serve irish korean food': 0, 'for vietnamese food': 0, 'do you know millers serves world': 0, 'area change': 0, 'is it': 0, 'on served irish theme from': 0, 'irish korean food': 0, 'very area': 0, 'reach them': 0, 'uh in area': 0, 'of the avenue': 0, 'phone number': 0, ' ': 0}\n",
      "0.022168421052631577 0.15789473684210525 0.0\n",
      "['i am looking for cheap restaurant that serves malaysian food', 'european food', 'european school', 'malaysian', 'ok partially', 'what are the first', 'stated', 'european food', 'moderately priced', 'the address and phone number', 'phone number', ' ']\n",
      "{'i am looking for cheap restaurant that serves malaysian food': 0, 'european food': 0, 'european school': 0, 'malaysian': 0, 'ok partially': 0, 'what are the first': 0, 'stated': 0, 'moderately priced': 0, 'the address and phone number': 0, 'phone number': 0, ' ': 0}\n",
      "0.04094545454545454 0.2727272727272727 0.0\n",
      "['a expensive restaurant that serves that in', 'yeah in', 'and yeah', 'phone number', 'area', 'phone number', 'okay ']\n",
      "{'a expensive restaurant that serves that in': 0, 'yeah in': 0, 'and yeah': 0, 'phone number': 0, 'area': 0, 'okay ': 0}\n"
     ]
    },
    {
     "name": "stdout",
     "output_type": "stream",
     "text": [
      "0.14925 0.6666666666666666 0.0\n",
      "['uh moderately priced restaurant that serves', 'indian', 'in any', 'i want uh asian oriental type', 'address', 'phone number', ' ']\n",
      "{'uh moderately priced restaurant that serves': 0, 'indian': 0, 'in any': 0, 'i want uh asian oriental type': 0, 'address': 0, 'phone number': 0, ' ': 0}\n",
      "0.02205714285714286 0.2857142857142857 0.0\n",
      "['ah i would like to find a restaurant', 'can i have the restaurant', 'restaurant', 'irish food', 'double to restaurant then', '', '']\n",
      "{'ah i would like to find a restaurant': 0, 'can i have the restaurant': 0, 'restaurant': 0, 'irish food': 0, 'double to restaurant then': 0, '': 0}\n",
      "0.060200000000000004 0.16666666666666666 0.0\n",
      "['expensive restaurant', 'south', 'expensive', 'french', 'italian', 'anything else', 'can i have the address', 'okay', ' ']\n",
      "{'expensive restaurant': 0, 'south': 0, 'expensive': 0, 'french': 0, 'italian': 0, 'anything else': 0, 'can i have the address': 0, 'okay': 0, ' ': 0}\n",
      "0.025144444444444445 0.1111111111111111 0.0\n",
      "['moderately priced in the west part of town', 'anything else', 'is there anything else', 'is there anything else', 'anything else', 'is there anything else', \"i don't care is there anything else\", \"what's the address\", ' ']\n",
      "{'moderately priced in the west part of town': 0, 'anything else': 0, 'is there anything else': 0, \"i don't care is there anything else\": 0, \"what's the address\": 0, ' ': 0}\n",
      "-0.06458333333333334 0.0 0.16666666666666666\n",
      "['looking for a korean restaurant in the centre', \"i'm looking for in a korean food\", 'in the korean food', ' ']\n",
      "{'looking for a korean restaurant in the centre': 0, \"i'm looking for in a korean food\": 0, 'in the korean food': 0, ' ': 0}\n",
      "0.0 0.0 0.0\n",
      "[\"hi i'm looking for a moderately priced restaurant in the north part of town\", 'british', 'is there anything else', \"i don't want spanish food\", 'white', 'how about english food in the north part of town', 'is there anything else', 'and have their address', 'the phone number please', 'and the type of food', ' ']\n",
      "{\"hi i'm looking for a moderately priced restaurant in the north part of town\": 0, 'british': 0, 'is there anything else': 0, \"i don't want spanish food\": 0, 'white': 0, 'how about english food in the north part of town': 0, 'and have their address': 0, 'the phone number please': 0, 'and the type of food': 0, ' ': 0}\n",
      "0.03246 0.1 0.1\n",
      "['i want to find a expensive restaurant in the east part of town', 'american', 'can i have the address', 'what type of food is that', ' ']\n",
      "{'i want to find a expensive restaurant in the east part of town': 0, 'american': 0, 'can i have the address': 0, 'what type of food is that': 0, ' ': 0}\n",
      "0.01544 0.2 0.0\n",
      "['no', 'nor', 'oh', 'bar', ' ']\n",
      "{'no': 0, 'nor': 0, 'oh': 0, 'bar': 0, ' ': 0}\n",
      "-0.059199999999999996 0.0 0.2\n",
      "['yes i in the east part of town right now i am looking for a needs please that serves indonesian food', 'ok', 'okay how about chinese food', 'um partially eastern', \"okay there's no restaurant serving asian food how about a restaurant that serves chinese food\", 'any nice can you restaurant answer search trying food in the east part of town', 'hi for', '', \"pitch okay what's look for chinese restaurant\", 'chinese restaurant please', 'yes', 'cool', ' ']\n",
      "{'yes i in the east part of town right now i am looking for a needs please that serves indonesian food': 0, 'ok': 0, 'okay how about chinese food': 0, 'um partially eastern': 0, \"okay there's no restaurant serving asian food how about a restaurant that serves chinese food\": 0, 'any nice can you restaurant answer search trying food in the east part of town': 0, 'hi for': 0, '': 0, \"pitch okay what's look for chinese restaurant\": 0, 'chinese restaurant please': 0, 'yes': 0, 'cool': 0, ' ': 0}\n",
      "0.21104615384615383 0.6153846153846154 0.07692307692307693\n",
      "['i need a cheap restaurant in any part of town', 'address', 'phone number', ' ']\n",
      "{'i need a cheap restaurant in any part of town': 0, 'address': 0, 'phone number': 0, ' ': 0}\n",
      "0.0193 0.25 0.0\n",
      "['', \"the west part of town i'd like a cheap restaurant\", 'any kind of food', 'and there any a cheap restaurant in the west part of town', 'is there another restaurant west town', 'can i get their address', 'and what kind of food do they have', ' ']\n",
      "{'': 0, \"the west part of town i'd like a cheap restaurant\": 0, 'any kind of food': 0, 'and there any a cheap restaurant in the west part of town': 0, 'is there another restaurant west town': 0, 'can i get their address': 0, 'and what kind of food do they have': 0, ' ': 0}\n",
      "0.04515 0.125 0.0\n",
      "['uh i would like to find a cheap restaurant in the west part', 'any kind of food', 'are there any of a cheap restaurant in the west part of town', 'is there a to find a cheap restaurant in the west part of town', 'can i get the address please', ' ']\n",
      "{'uh i would like to find a cheap restaurant in the west part': 0, 'any kind of food': 0, 'are there any of a cheap restaurant in the west part of town': 0, 'is there a to find a cheap restaurant in the west part of town': 0, 'can i get the address please': 0, ' ': 0}\n",
      "0.11323333333333334 0.3333333333333333 0.0\n",
      "['and', \"uh i'm looking for thai food restaurant and i don't care very\", \"i'm looking for type for\", 'hi school', 'go back', 'okay', \"i don't want pizza\", 'hi', 'uh', 'plea do area', 'uh', ' ']\n",
      "{'and': 0, \"uh i'm looking for thai food restaurant and i don't care very\": 0, \"i'm looking for type for\": 0, 'hi school': 0, 'go back': 0, 'okay': 0, \"i don't want pizza\": 0, 'hi': 0, 'uh': 0, 'plea do area': 0, ' ': 0}\n",
      "-0.019854545454545455 0.09090909090909091 0.18181818181818182\n",
      "['not very any great in south', 'south area and', \"it doesn't matter\", 'not area', 'everything', 'can repeat that', 'phone and', 'call them there', 'call do you have a', 'ok called', 'halal', 'oh', 'phone number', ' ']\n",
      "{'not very any great in south': 0, 'south area and': 0, \"it doesn't matter\": 0, 'not area': 0, 'everything': 0, 'can repeat that': 0, 'phone and': 0, 'call them there': 0, 'call do you have a': 0, 'ok called': 0, 'halal': 0, 'oh': 0, 'phone number': 0, ' ': 0}\n",
      "-0.013442857142857145 0.14285714285714285 0.14285714285714285\n",
      "['i want a cheap restaurant that serves unusual food', 'how about european', 'although about euro p.m. food', 'there restaurant that serves european food', 'yes', 'yes', ' ']\n",
      "{'i want a cheap restaurant that serves unusual food': 0, 'how about european': 0, 'although about euro p.m. food': 0, 'there restaurant that serves european food': 0, 'yes': 0, ' ': 0}\n",
      "0.07984999999999999 0.3333333333333333 0.0\n",
      "[\"i'm looking for a restaurant in the south part of town that serves greek food\", 'pub i king need', 'range', 'thank you', 'chinese food', \"i'm not\", 'address', 'price range', ' ']\n",
      "{\"i'm looking for a restaurant in the south part of town that serves greek food\": 0, 'pub i king need': 0, 'range': 0, 'thank you': 0, 'chinese food': 0, \"i'm not\": 0, 'address': 0, 'price range': 0, ' ': 0}\n",
      "0.04013333333333333 0.1111111111111111 0.0\n",
      "[\"i'm looking for a moderately priced restaurant that serves uh\", \"i don't care\", 'asian', 'what kind of food is that', 'what about persian food', 'what type of food', 'phone number', 'phone number', ' ']\n",
      "{\"i'm looking for a moderately priced restaurant that serves uh\": 0, \"i don't care\": 0, 'asian': 0, 'what kind of food is that': 0, 'what about persian food': 0, 'what type of food': 0, 'phone number': 0, ' ': 0}\n",
      "-0.0387875 0.125 0.125\n",
      "[\"ok i'm looking for a bar a restaurant in west part of town that serves christmas then\", 'what about italian', 'can i get the phone number', ' ']\n",
      "{\"ok i'm looking for a bar a restaurant in west part of town that serves christmas then\": 0, 'what about italian': 0, 'can i get the phone number': 0, ' ': 0}\n",
      "0.0933 0.5 0.0\n",
      "['um', '', 'i is', 'i would like the', \"no i'm looking for a restaurant that serves english\", 'no english food', 'any', 'what about spanish food', 'spanish food', 'no', 'any area', 'no any area', \"i don't care\", \"i don't care\", \"what's the address\", 'range', 'price range', ' ']\n",
      "{'um': 0, '': 0, 'i is': 0, 'i would like the': 0, \"no i'm looking for a restaurant that serves english\": 0, 'no english food': 0, 'any': 0, 'what about spanish food': 0, 'spanish food': 0, 'no': 0, 'any area': 0, 'no any area': 0, \"i don't care\": 0, \"what's the address\": 0, 'range': 0, 'price range': 0, ' ': 0}\n",
      "-0.07119411764705882 0.058823529411764705 0.29411764705882354\n"
     ]
    },
    {
     "name": "stdout",
     "output_type": "stream",
     "text": [
      "[\"i'm looking for a polynesian food\", 'how about vietnamese', 'vietnamese', 'can i have the address', 'can i right okay ', ' ']\n",
      "{\"i'm looking for a polynesian food\": 0, 'how about vietnamese': 0, 'vietnamese': 0, 'can i have the address': 0, 'can i right okay ': 0, ' ': 0}\n",
      "0.03771666666666667 0.16666666666666666 0.0\n",
      "['greek', \"i'm looking for a restaurant in the west part of town to jamaican food\", 'can need it is', 'give me can food', 'tell me towards then', 'what kind of that is that', 'what about type of food', 'what kind of food is that', 'sure to eat anything', 'see', 'what type of food', 'address', 'phone number', 'price range', 'okay  ']\n",
      "{'greek': 0, \"i'm looking for a restaurant in the west part of town to jamaican food\": 0, 'can need it is': 0, 'give me can food': 0, 'tell me towards then': 0, 'what kind of that is that': 0, 'what about type of food': 0, 'what kind of food is that': 0, 'sure to eat anything': 0, 'see': 0, 'what type of food': 0, 'address': 0, 'phone number': 0, 'price range': 0, 'okay  ': 0}\n",
      "0.04144666666666666 0.2 0.0\n",
      "[\"i'm looking for a restaurant in the centre part of town that serves unusual food\", 'thai food', 'address', 'phone number', ' ']\n",
      "{\"i'm looking for a restaurant in the centre part of town that serves unusual food\": 0, 'thai food': 0, 'address': 0, 'phone number': 0, ' ': 0}\n",
      "0.01544 0.2 0.0\n",
      "['hi i near looking for a belgian restaurant in the city', 'um portuguese', 'okay  ']\n",
      "{'hi i near looking for a belgian restaurant in the city': 0, 'um portuguese': 0, 'okay  ': 0}\n",
      "0.07543333333333334 0.3333333333333333 0.0\n",
      "[\"i'm looking for restaurant in north part of town and it should serve african food\", 'how about indian food', 'and the address phone number and price range', 'or no', \"what's the cost\", \"what's the price range\", \"okay what's the address\", 'the phone number', '  want to to want fee for']\n",
      "{\"i'm looking for restaurant in north part of town and it should serve african food\": 0, 'how about indian food': 0, 'and the address phone number and price range': 0, 'or no': 0, \"what's the cost\": 0, \"what's the price range\": 0, \"okay what's the address\": 0, 'the phone number': 0, '  want to to want fee for': 0}\n",
      "0.026422222222222222 0.4444444444444444 0.1111111111111111\n",
      "['uh', 'cheap restaurant', 'that serves food', 'okay uh how about european food', \"i don't care\", 'how about moderate price range', 'okay and uh the address', 'and the phone number', 'okay can  ']\n",
      "{'uh': 0, 'cheap restaurant': 0, 'that serves food': 0, 'okay uh how about european food': 0, \"i don't care\": 0, 'how about moderate price range': 0, 'okay and uh the address': 0, 'and the phone number': 0, 'okay can  ': 0}\n",
      "0.04095555555555555 0.4444444444444444 0.1111111111111111\n",
      "['', \"i'm look\", \"i'm looking from\", \"i'm looking for\", \"i'm looking for a moderately priced restaurant in the south of town\", 'thank you', 'any food', 'is there anything else', 'and what is the address', 'ok', 'and what is the hmm hmm  ']\n",
      "{'': 0, \"i'm look\": 0, \"i'm looking from\": 0, \"i'm looking for\": 0, \"i'm looking for a moderately priced restaurant in the south of town\": 0, 'thank you': 0, 'any food': 0, 'is there anything else': 0, 'and what is the address': 0, 'ok': 0, 'and what is the hmm hmm  ': 0}\n",
      "0.059745454545454546 0.18181818181818182 0.0\n",
      "[\"i'm looking for a restaurant in the east part of town\", 'a', 'indonesian food', 'chinese', 'can i have the address', 'phone number', 'and the post code', ' ']\n",
      "{\"i'm looking for a restaurant in the east part of town\": 0, 'a': 0, 'indonesian food': 0, 'chinese': 0, 'can i have the address': 0, 'phone number': 0, 'and the post code': 0, ' ': 0}\n",
      "0.00965 0.125 0.0\n",
      "['pay to find a moderately priced restaurant', \"don't care\", 'mexican food', 'international thai food', 'address', 'post code', ' ']\n",
      "{'pay to find a moderately priced restaurant': 0, \"don't care\": 0, 'mexican food': 0, 'international thai food': 0, 'address': 0, 'post code': 0, ' ': 0}\n",
      "-0.07002857142857143 0.0 0.2857142857142857\n",
      "['the', \"doesn't matter\", 'no', 'restaurant and centre', 'yes', 'unusual food', \"guide i'd full\", 'tiny type of food', 'type of food', 'yes', 'no', 'thai food', 'address', 'phone number', ' ']\n",
      "{'the': 0, \"doesn't matter\": 0, 'no': 0, 'restaurant and centre': 0, 'yes': 0, 'unusual food': 0, \"guide i'd full\": 0, 'tiny type of food': 0, 'type of food': 0, 'thai food': 0, 'address': 0, 'phone number': 0, ' ': 0}\n",
      "0.012615384615384613 0.15384615384615385 0.15384615384615385\n",
      "['can i want to find a restaurant in the north part of town', 'barbeque food', 'how about asian oriental', 'how about asian oriental type of food', 'ok fine how about a east in city', 'ok okay ok', 'fine i want a restaurant in north part of town', 'how about asian oriental what type of food', 'no', 'how about asian oriental type of food', 'how bye eat in', 'sure how about you', 'yes', 'u', 'not anymore i', 'thank you', 'how are you', 'how about to eat in the', 'ok  ']\n",
      "{'can i want to find a restaurant in the north part of town': 0, 'barbeque food': 0, 'how about asian oriental': 0, 'how about asian oriental type of food': 0, 'ok fine how about a east in city': 0, 'ok okay ok': 0, 'fine i want a restaurant in north part of town': 0, 'how about asian oriental what type of food': 0, 'no': 0, 'how bye eat in': 0, 'sure how about you': 0, 'yes': 0, 'u': 0, 'not anymore i': 0, 'thank you': 0, 'how are you': 0, 'how about to eat in the': 0, 'ok  ': 0}\n",
      "0.1410611111111111 0.4444444444444444 0.05555555555555555\n",
      "['could you', 'ok like', '', 'it', 'yes south bye', \"you'll serves drinks and french\", 'ok that', 'ok entrance good', 'where is it', 'ok', 'yes but i', 'okay  ']\n",
      "{'could you': 0, 'ok like': 0, '': 0, 'it': 0, 'yes south bye': 0, \"you'll serves drinks and french\": 0, 'ok that': 0, 'ok entrance good': 0, 'where is it': 0, 'ok': 0, 'yes but i': 0, 'okay  ': 0}\n",
      "0.21928333333333336 0.5833333333333334 0.0\n",
      "['ok do for that', '', 'tuscan', '', 'european', 'south', 'north', 'north', ' ']\n",
      "{'ok do for that': 0, '': 0, 'tuscan': 0, 'european': 0, 'south': 0, 'north': 0, ' ': 0}\n",
      "0.04228571428571428 0.14285714285714285 0.0\n",
      "[\"i'm looking\", 'for a restaurant', 'in any food', ' ']\n",
      "{\"i'm looking\": 0, 'for a restaurant': 0, 'in any food': 0, ' ': 0}\n",
      "0.0 0.0 0.0\n",
      "[\"i'm looking for a restaurant in the south part care\", 'yes', 'yes', 'okay what indian', 'the south indian food', \"and what's the phone number\", 'are  can i', ' ']\n",
      "{\"i'm looking for a restaurant in the south part care\": 0, 'yes': 0, 'okay what indian': 0, 'the south indian food': 0, \"and what's the phone number\": 0, 'are  can i': 0, ' ': 0}\n",
      "0.1713285714285714 0.5714285714285714 0.0\n",
      "['i want to find a moderately priced restaurant', 'north', 'uh no for', \"what's the address\", 'the phone number', 'what is the food', '', ' ']\n",
      "{'i want to find a moderately priced restaurant': 0, 'north': 0, 'uh no for': 0, \"what's the address\": 0, 'the phone number': 0, 'what is the food': 0, '': 0, ' ': 0}\n",
      "-0.0177 0.25 0.125\n",
      "['the world food', 'gastropub', 'world food', 'gastro pub', 'gastro pub food', 'no', 'ok  ']\n",
      "{'the world food': 0, 'gastropub': 0, 'world food': 0, 'gastro pub': 0, 'gastro pub food': 0, 'no': 0, 'ok  ': 0}\n",
      "0.0 0.14285714285714285 0.14285714285714285\n",
      "['hello', 'ok', 'expensive', 'expensive', ' ']\n",
      "{'hello': 0, 'ok': 0, 'expensive': 0, ' ': 0}\n",
      "0.074 0.25 0.0\n",
      "['moderately priced', 'any type', 'uh', 'no food no', 'the address', ' ']\n",
      "{'moderately priced': 0, 'any type': 0, 'uh': 0, 'no food no': 0, 'the address': 0, ' ': 0}\n",
      "-0.08778333333333332 0.0 0.16666666666666666\n",
      "['and is', 'and', 'japanese food', 'address', 'area', 'area', 'what is their area', 'you re yeah', ' ']\n",
      "{'and is': 0, 'and': 0, 'japanese food': 0, 'address': 0, 'area': 0, 'what is their area': 0, 'you re yeah': 0, ' ': 0}\n",
      "0.037 0.125 0.0\n",
      "['budget', 'the cheap', 'yes', 'the eastern of town uh', 'east part of town', 'phone number', 'hi of the alimentum', 'what kind of food do they serve', 'ok', 'thank you less', 'hi', 'ok  ']\n",
      "{'budget': 0, 'the cheap': 0, 'yes': 0, 'the eastern of town uh': 0, 'east part of town': 0, 'phone number': 0, 'hi of the alimentum': 0, 'what kind of food do they serve': 0, 'ok': 0, 'thank you less': 0, 'hi': 0, 'ok  ': 0}\n",
      "0.11935833333333333 0.4166666666666667 0.0\n",
      "['', \"i'm looking for a cheap restaurant that serves japanese food\", 'for french food', 'no', 'what about spanish food', 'what kind of food', \"what's the address\", 'signature dish', 'what is the signature dish', ' ']\n",
      "{'': 0, \"i'm looking for a cheap restaurant that serves japanese food\": 0, 'for french food': 0, 'no': 0, 'what about spanish food': 0, 'what kind of food': 0, \"what's the address\": 0, 'signature dish': 0, 'what is the signature dish': 0, ' ': 0}\n",
      "-0.029599999999999998 0.0 0.1\n"
     ]
    }
   ],
   "source": [
    "for idx,file in enumerate(text_files_dsat):\n",
    "    id_number,lines = read_file(file)\n",
    "    num_rep, num_rep_per,len_conversation = number_repetition(lines)\n",
    "    compound_score, tot_pos_sen, tot_neg_sen = pos_neg_conv(lines)\n",
    "    df_rep_dsat.iloc[idx] = pd.Series({'id':id_number, 'num_rep':num_rep, 'num_rep_per':num_rep_per,\n",
    "                                  'len_conversation':len_conversation,\n",
    "                                       'total_compound_conv':compound_score, 'tot_pos_sen':tot_pos_sen, \n",
    "                                       'tot_neg_sen':tot_neg_sen, 'Is_satisfied':0})"
   ]
  },
  {
   "cell_type": "code",
   "execution_count": 50,
   "metadata": {},
   "outputs": [
    {
     "data": {
      "text/html": [
       "<div>\n",
       "<style scoped>\n",
       "    .dataframe tbody tr th:only-of-type {\n",
       "        vertical-align: middle;\n",
       "    }\n",
       "\n",
       "    .dataframe tbody tr th {\n",
       "        vertical-align: top;\n",
       "    }\n",
       "\n",
       "    .dataframe thead th {\n",
       "        text-align: right;\n",
       "    }\n",
       "</style>\n",
       "<table border=\"1\" class=\"dataframe\">\n",
       "  <thead>\n",
       "    <tr style=\"text-align: right;\">\n",
       "      <th></th>\n",
       "      <th>id</th>\n",
       "      <th>num_rep</th>\n",
       "      <th>num_rep_per</th>\n",
       "      <th>len_conversation</th>\n",
       "      <th>total_compound_conv</th>\n",
       "      <th>tot_pos_sen</th>\n",
       "      <th>tot_neg_sen</th>\n",
       "      <th>Is_satisfied</th>\n",
       "    </tr>\n",
       "  </thead>\n",
       "  <tbody>\n",
       "    <tr>\n",
       "      <th>0</th>\n",
       "      <td>dsat\\voip-0241bbae39-20130327_195830</td>\n",
       "      <td>7</td>\n",
       "      <td>0.583333</td>\n",
       "      <td>24</td>\n",
       "      <td>0</td>\n",
       "      <td>0</td>\n",
       "      <td>0</td>\n",
       "      <td>0</td>\n",
       "    </tr>\n",
       "    <tr>\n",
       "      <th>1</th>\n",
       "      <td>dsat\\voip-0f41c16f2f-20130325_192310</td>\n",
       "      <td>4</td>\n",
       "      <td>0.666667</td>\n",
       "      <td>12</td>\n",
       "      <td>0.10275</td>\n",
       "      <td>0.333333</td>\n",
       "      <td>0.166667</td>\n",
       "      <td>0</td>\n",
       "    </tr>\n",
       "    <tr>\n",
       "      <th>2</th>\n",
       "      <td>dsat\\voip-0f41c16f2f-20130325_193723</td>\n",
       "      <td>4</td>\n",
       "      <td>0.571429</td>\n",
       "      <td>14</td>\n",
       "      <td>0.0463857</td>\n",
       "      <td>0.142857</td>\n",
       "      <td>0.142857</td>\n",
       "      <td>0</td>\n",
       "    </tr>\n",
       "    <tr>\n",
       "      <th>3</th>\n",
       "      <td>dsat\\voip-0f41c16f2f-20130325_204340</td>\n",
       "      <td>0</td>\n",
       "      <td>0</td>\n",
       "      <td>10</td>\n",
       "      <td>0</td>\n",
       "      <td>0</td>\n",
       "      <td>0</td>\n",
       "      <td>0</td>\n",
       "    </tr>\n",
       "    <tr>\n",
       "      <th>4</th>\n",
       "      <td>dsat\\voip-0f41c16f2f-20130402_005414</td>\n",
       "      <td>4</td>\n",
       "      <td>0.5</td>\n",
       "      <td>16</td>\n",
       "      <td>0</td>\n",
       "      <td>0</td>\n",
       "      <td>0</td>\n",
       "      <td>0</td>\n",
       "    </tr>\n",
       "  </tbody>\n",
       "</table>\n",
       "</div>"
      ],
      "text/plain": [
       "                                     id num_rep num_rep_per len_conversation  \\\n",
       "0  dsat\\voip-0241bbae39-20130327_195830       7    0.583333               24   \n",
       "1  dsat\\voip-0f41c16f2f-20130325_192310       4    0.666667               12   \n",
       "2  dsat\\voip-0f41c16f2f-20130325_193723       4    0.571429               14   \n",
       "3  dsat\\voip-0f41c16f2f-20130325_204340       0           0               10   \n",
       "4  dsat\\voip-0f41c16f2f-20130402_005414       4         0.5               16   \n",
       "\n",
       "  total_compound_conv tot_pos_sen tot_neg_sen Is_satisfied  \n",
       "0                   0           0           0            0  \n",
       "1             0.10275    0.333333    0.166667            0  \n",
       "2           0.0463857    0.142857    0.142857            0  \n",
       "3                   0           0           0            0  \n",
       "4                   0           0           0            0  "
      ]
     },
     "execution_count": 50,
     "metadata": {},
     "output_type": "execute_result"
    }
   ],
   "source": [
    "df_rep_dsat.head()"
   ]
  },
  {
   "cell_type": "markdown",
   "metadata": {},
   "source": [
    "#### create feature dataframe for satisfied dataset"
   ]
  },
  {
   "cell_type": "code",
   "execution_count": 51,
   "metadata": {},
   "outputs": [],
   "source": [
    "columns = ['id','num_rep','num_rep_per','len_conversation','total_compound_conv', 'tot_pos_sen', 'tot_neg_sen', 'Is_satisfied']\n",
    "df_rep_sat = pd.DataFrame(index=range(len(text_files_sat)), columns=columns)"
   ]
  },
  {
   "cell_type": "code",
   "execution_count": 59,
   "metadata": {},
   "outputs": [],
   "source": [
    "for idx,file in enumerate(text_files_sat):\n",
    "    index,lines = read_file(file)\n",
    "    num_rep, num_rep_per,len_conversation = number_repetition(lines)\n",
    "    compound_score, tot_pos_sen, tot_neg_sen = pos_neg_conv(lines)\n",
    "    df_rep_sat.iloc[idx] = pd.Series({'id':index,'num_rep':num_rep, 'num_rep_per':num_rep_per,\n",
    "                                  'len_conversation':len_conversation,\n",
    "                                       'total_compound_conv':compound_score, 'tot_pos_sen':tot_pos_sen, \n",
    "                                       'tot_neg_sen':tot_neg_sen, 'Is_satisfied':1})"
   ]
  },
  {
   "cell_type": "code",
   "execution_count": 60,
   "metadata": {},
   "outputs": [
    {
     "data": {
      "text/html": [
       "<div>\n",
       "<style scoped>\n",
       "    .dataframe tbody tr th:only-of-type {\n",
       "        vertical-align: middle;\n",
       "    }\n",
       "\n",
       "    .dataframe tbody tr th {\n",
       "        vertical-align: top;\n",
       "    }\n",
       "\n",
       "    .dataframe thead th {\n",
       "        text-align: right;\n",
       "    }\n",
       "</style>\n",
       "<table border=\"1\" class=\"dataframe\">\n",
       "  <thead>\n",
       "    <tr style=\"text-align: right;\">\n",
       "      <th></th>\n",
       "      <th>id</th>\n",
       "      <th>num_rep</th>\n",
       "      <th>num_rep_per</th>\n",
       "      <th>len_conversation</th>\n",
       "      <th>total_compound_conv</th>\n",
       "      <th>tot_pos_sen</th>\n",
       "      <th>tot_neg_sen</th>\n",
       "      <th>Is_satisfied</th>\n",
       "    </tr>\n",
       "  </thead>\n",
       "  <tbody>\n",
       "    <tr>\n",
       "      <th>0</th>\n",
       "      <td>sat\\voip-00d76b791d-20130327_011609</td>\n",
       "      <td>0</td>\n",
       "      <td>0</td>\n",
       "      <td>14</td>\n",
       "      <td>0.1003</td>\n",
       "      <td>0.285714</td>\n",
       "      <td>0</td>\n",
       "      <td>1</td>\n",
       "    </tr>\n",
       "    <tr>\n",
       "      <th>1</th>\n",
       "      <td>sat\\voip-00d76b791d-20130327_012331</td>\n",
       "      <td>0</td>\n",
       "      <td>0</td>\n",
       "      <td>10</td>\n",
       "      <td>0.01544</td>\n",
       "      <td>0.2</td>\n",
       "      <td>0</td>\n",
       "      <td>1</td>\n",
       "    </tr>\n",
       "    <tr>\n",
       "      <th>2</th>\n",
       "      <td>sat\\voip-0241bbae39-20130327_190942</td>\n",
       "      <td>0</td>\n",
       "      <td>0</td>\n",
       "      <td>10</td>\n",
       "      <td>-0.0775</td>\n",
       "      <td>0</td>\n",
       "      <td>0.2</td>\n",
       "      <td>1</td>\n",
       "    </tr>\n",
       "    <tr>\n",
       "      <th>3</th>\n",
       "      <td>sat\\voip-03c2655d43-20130327_194221</td>\n",
       "      <td>0</td>\n",
       "      <td>0</td>\n",
       "      <td>6</td>\n",
       "      <td>0.0257333</td>\n",
       "      <td>0.333333</td>\n",
       "      <td>0</td>\n",
       "      <td>1</td>\n",
       "    </tr>\n",
       "    <tr>\n",
       "      <th>4</th>\n",
       "      <td>sat\\voip-03c2655d43-20130327_194616</td>\n",
       "      <td>0</td>\n",
       "      <td>0</td>\n",
       "      <td>6</td>\n",
       "      <td>0.0257333</td>\n",
       "      <td>0.333333</td>\n",
       "      <td>0</td>\n",
       "      <td>1</td>\n",
       "    </tr>\n",
       "  </tbody>\n",
       "</table>\n",
       "</div>"
      ],
      "text/plain": [
       "                                    id num_rep num_rep_per len_conversation  \\\n",
       "0  sat\\voip-00d76b791d-20130327_011609       0           0               14   \n",
       "1  sat\\voip-00d76b791d-20130327_012331       0           0               10   \n",
       "2  sat\\voip-0241bbae39-20130327_190942       0           0               10   \n",
       "3  sat\\voip-03c2655d43-20130327_194221       0           0                6   \n",
       "4  sat\\voip-03c2655d43-20130327_194616       0           0                6   \n",
       "\n",
       "  total_compound_conv tot_pos_sen tot_neg_sen Is_satisfied  \n",
       "0              0.1003    0.285714           0            1  \n",
       "1             0.01544         0.2           0            1  \n",
       "2             -0.0775           0         0.2            1  \n",
       "3           0.0257333    0.333333           0            1  \n",
       "4           0.0257333    0.333333           0            1  "
      ]
     },
     "execution_count": 60,
     "metadata": {},
     "output_type": "execute_result"
    }
   ],
   "source": [
    "df_rep_sat.head()"
   ]
  },
  {
   "cell_type": "code",
   "execution_count": 61,
   "metadata": {},
   "outputs": [
    {
     "name": "stdout",
     "output_type": "stream",
     "text": [
      "Number of disatisfied files: 157\n",
      "Number of satisfied files: 314\n"
     ]
    }
   ],
   "source": [
    "print('Number of disatisfied files: {}'.format(len(df_rep_dsat)))\n",
    "print('Number of satisfied files: {}'.format(len(df_rep_sat)))"
   ]
  },
  {
   "cell_type": "markdown",
   "metadata": {},
   "source": [
    "#### concat 2 dataframe"
   ]
  },
  {
   "cell_type": "code",
   "execution_count": 236,
   "metadata": {},
   "outputs": [],
   "source": [
    "new_df = pd.concat([df_rep_dsat,df_rep_sat])"
   ]
  },
  {
   "cell_type": "markdown",
   "metadata": {},
   "source": [
    "#### shuffle the dataframe"
   ]
  },
  {
   "cell_type": "code",
   "execution_count": 237,
   "metadata": {},
   "outputs": [],
   "source": [
    "df_shuffle = new_df.sample(frac=1).reset_index(drop=True)"
   ]
  },
  {
   "cell_type": "code",
   "execution_count": 203,
   "metadata": {},
   "outputs": [],
   "source": [
    "df_shuffle.to_csv(\"features.csv\",index=False)"
   ]
  },
  {
   "cell_type": "markdown",
   "metadata": {},
   "source": [
    "#### Logistic regression"
   ]
  },
  {
   "cell_type": "code",
   "execution_count": 271,
   "metadata": {},
   "outputs": [],
   "source": [
    "from sklearn.model_selection import train_test_split\n",
    "from sklearn.linear_model import LogisticRegression"
   ]
  },
  {
   "cell_type": "code",
   "execution_count": 278,
   "metadata": {},
   "outputs": [],
   "source": [
    "X = df_shuffle.iloc[:,:-1]\n",
    "y = df_shuffle.iloc[:,-1]\n",
    "X_train, X_test, y_train, y_test = train_test_split(X, y, random_state=0)"
   ]
  },
  {
   "cell_type": "code",
   "execution_count": 279,
   "metadata": {},
   "outputs": [],
   "source": [
    "y_train = y_train.astype('int')\n",
    "y_test = y_test.astype('int')"
   ]
  },
  {
   "cell_type": "code",
   "execution_count": 280,
   "metadata": {},
   "outputs": [
    {
     "name": "stderr",
     "output_type": "stream",
     "text": [
      "/anaconda3/lib/python3.6/site-packages/sklearn/linear_model/logistic.py:433: FutureWarning: Default solver will be changed to 'lbfgs' in 0.22. Specify a solver to silence this warning.\n",
      "  FutureWarning)\n"
     ]
    },
    {
     "data": {
      "text/plain": [
       "LogisticRegression(C=1.0, class_weight=None, dual=False, fit_intercept=True,\n",
       "          intercept_scaling=1, max_iter=100, multi_class='warn',\n",
       "          n_jobs=None, penalty='l2', random_state=0, solver='warn',\n",
       "          tol=0.0001, verbose=0, warm_start=False)"
      ]
     },
     "execution_count": 280,
     "metadata": {},
     "output_type": "execute_result"
    }
   ],
   "source": [
    "classifier = LogisticRegression(random_state=0)\n",
    "classifier.fit(X_train, y_train)"
   ]
  },
  {
   "cell_type": "code",
   "execution_count": 281,
   "metadata": {},
   "outputs": [
    {
     "name": "stdout",
     "output_type": "stream",
     "text": [
      "[[22 13]\n",
      " [14 69]]\n"
     ]
    }
   ],
   "source": [
    "y_pred = classifier.predict(X_test)\n",
    "from sklearn.metrics import confusion_matrix\n",
    "confusion_matrix = confusion_matrix(y_test, y_pred)\n",
    "print(confusion_matrix)"
   ]
  },
  {
   "cell_type": "code",
   "execution_count": 282,
   "metadata": {},
   "outputs": [],
   "source": [
    "y_pred_new = classifier.predict_proba(X_test)\n",
    "y_pred_new2 = classifier.decision_function(X_test)"
   ]
  },
  {
   "cell_type": "code",
   "execution_count": 283,
   "metadata": {},
   "outputs": [
    {
     "name": "stdout",
     "output_type": "stream",
     "text": [
      "Accuracy of logistic regression classifier on test set: 0.77\n"
     ]
    }
   ],
   "source": [
    "print('Accuracy of logistic regression classifier on test set: {:.2f}'.format(classifier.score(X_test, y_test)))"
   ]
  },
  {
   "cell_type": "code",
   "execution_count": 284,
   "metadata": {},
   "outputs": [],
   "source": [
    "from pandas import *\n",
    "import numpy as np\n",
    "from scipy.stats.stats import pearsonr\n",
    "import itertools"
   ]
  },
  {
   "cell_type": "code",
   "execution_count": 168,
   "metadata": {},
   "outputs": [
    {
     "name": "stdout",
     "output_type": "stream",
     "text": [
      "                                     PCC        p-value\n",
      "len_conversation__Is_satisfied -0.353808   2.460829e-15\n",
      "num_rep__Is_satisfied          -0.477934   2.981528e-28\n",
      "num_rep__len_conversation       0.858641  3.229487e-138\n",
      "num_rep__num_rep_exp            0.758841   2.193505e-89\n",
      "num_rep__num_rep_per            0.856732  5.911338e-137\n",
      "num_rep_exp__Is_satisfied      -0.347836   7.670654e-15\n",
      "num_rep_exp__len_conversation   0.603272   5.067019e-48\n",
      "num_rep_per__Is_satisfied      -0.522149   2.668523e-34\n",
      "num_rep_per__len_conversation   0.592383   5.972811e-46\n",
      "num_rep_per__num_rep_exp        0.561749   1.586553e-40\n"
     ]
    }
   ],
   "source": [
    "correlations = {}\n",
    "columns = df_shuffle.columns.tolist()\n",
    "\n",
    "for col_a, col_b in itertools.combinations(columns, 2):\n",
    "    correlations[col_a + '__' + col_b] = pearsonr(df_shuffle.loc[:, col_a], df_shuffle.loc[:, col_b])\n",
    "\n",
    "result = DataFrame.from_dict(correlations, orient='index')\n",
    "result.columns = ['PCC', 'p-value']\n",
    "\n",
    "print(result.sort_index())"
   ]
  },
  {
   "cell_type": "markdown",
   "metadata": {},
   "source": [
    "#### Build the model with one variable"
   ]
  },
  {
   "cell_type": "code",
   "execution_count": 177,
   "metadata": {},
   "outputs": [],
   "source": [
    "X = df_shuffle.iloc[:,:1]\n",
    "y = df_shuffle.iloc[:,-1]\n",
    "X_train, X_test, y_train, y_test = train_test_split(X, y, random_state=0)\n",
    "y_train = y_train.astype('int')\n",
    "y_test = y_test.astype('int')"
   ]
  },
  {
   "cell_type": "code",
   "execution_count": 178,
   "metadata": {},
   "outputs": [
    {
     "name": "stderr",
     "output_type": "stream",
     "text": [
      "/anaconda3/lib/python3.6/site-packages/sklearn/linear_model/logistic.py:433: FutureWarning: Default solver will be changed to 'lbfgs' in 0.22. Specify a solver to silence this warning.\n",
      "  FutureWarning)\n"
     ]
    },
    {
     "data": {
      "text/plain": [
       "LogisticRegression(C=1.0, class_weight=None, dual=False, fit_intercept=True,\n",
       "          intercept_scaling=1, max_iter=100, multi_class='warn',\n",
       "          n_jobs=None, penalty='l2', random_state=0, solver='warn',\n",
       "          tol=0.0001, verbose=0, warm_start=False)"
      ]
     },
     "execution_count": 178,
     "metadata": {},
     "output_type": "execute_result"
    }
   ],
   "source": [
    "classifier = LogisticRegression(random_state=0)\n",
    "classifier.fit(X_train, y_train)"
   ]
  },
  {
   "cell_type": "code",
   "execution_count": 179,
   "metadata": {},
   "outputs": [
    {
     "name": "stdout",
     "output_type": "stream",
     "text": [
      "Accuracy of num_rep: 0.70\n"
     ]
    }
   ],
   "source": [
    "print('Accuracy of num_rep: {:.2f}'.format(classifier.score(X_test, y_test)))"
   ]
  },
  {
   "cell_type": "code",
   "execution_count": 175,
   "metadata": {},
   "outputs": [
    {
     "name": "stdout",
     "output_type": "stream",
     "text": [
      "Accuracy of num_rep_per: 0.73\n"
     ]
    },
    {
     "name": "stderr",
     "output_type": "stream",
     "text": [
      "/anaconda3/lib/python3.6/site-packages/sklearn/linear_model/logistic.py:433: FutureWarning: Default solver will be changed to 'lbfgs' in 0.22. Specify a solver to silence this warning.\n",
      "  FutureWarning)\n"
     ]
    }
   ],
   "source": [
    "X = df_shuffle.iloc[:,1:2]\n",
    "y = df_shuffle.iloc[:,-1]\n",
    "X_train, X_test, y_train, y_test = train_test_split(X, y, random_state=0)\n",
    "y_train = y_train.astype('int')\n",
    "y_test = y_test.astype('int')\n",
    "classifier = LogisticRegression(random_state=0)\n",
    "classifier.fit(X_train, y_train)\n",
    "print('Accuracy of num_rep_per: {:.2f}'.format(classifier.score(X_test, y_test)))"
   ]
  },
  {
   "cell_type": "code",
   "execution_count": 181,
   "metadata": {},
   "outputs": [
    {
     "name": "stdout",
     "output_type": "stream",
     "text": [
      "Accuracy of num_rep_exp: 0.72\n"
     ]
    },
    {
     "name": "stderr",
     "output_type": "stream",
     "text": [
      "/anaconda3/lib/python3.6/site-packages/sklearn/linear_model/logistic.py:433: FutureWarning: Default solver will be changed to 'lbfgs' in 0.22. Specify a solver to silence this warning.\n",
      "  FutureWarning)\n"
     ]
    }
   ],
   "source": [
    "X = df_shuffle.iloc[:,2:3]\n",
    "y = df_shuffle.iloc[:,-1]\n",
    "X_train, X_test, y_train, y_test = train_test_split(X, y, random_state=0)\n",
    "y_train = y_train.astype('int')\n",
    "y_test = y_test.astype('int')\n",
    "classifier = LogisticRegression(random_state=0)\n",
    "classifier.fit(X_train, y_train)\n",
    "print('Accuracy of num_rep_exp: {:.2f}'.format(classifier.score(X_test, y_test)))"
   ]
  },
  {
   "cell_type": "code",
   "execution_count": 184,
   "metadata": {},
   "outputs": [
    {
     "name": "stdout",
     "output_type": "stream",
     "text": [
      "Accuracy of len_conversation: 0.66\n"
     ]
    },
    {
     "name": "stderr",
     "output_type": "stream",
     "text": [
      "/anaconda3/lib/python3.6/site-packages/sklearn/linear_model/logistic.py:433: FutureWarning: Default solver will be changed to 'lbfgs' in 0.22. Specify a solver to silence this warning.\n",
      "  FutureWarning)\n"
     ]
    }
   ],
   "source": [
    "X = df_shuffle.iloc[:,3:4]\n",
    "y = df_shuffle.iloc[:,-1]\n",
    "X_train, X_test, y_train, y_test = train_test_split(X, y, random_state=0)\n",
    "y_train = y_train.astype('int')\n",
    "y_test = y_test.astype('int')\n",
    "classifier = LogisticRegression(random_state=0)\n",
    "classifier.fit(X_train, y_train)\n",
    "print('Accuracy of len_conversation: {:.2f}'.format(classifier.score(X_test, y_test)))"
   ]
  },
  {
   "cell_type": "code",
   "execution_count": null,
   "metadata": {},
   "outputs": [],
   "source": []
  }
 ],
 "metadata": {
  "kernelspec": {
   "display_name": "Python 3",
   "language": "python",
   "name": "python3"
  },
  "language_info": {
   "codemirror_mode": {
    "name": "ipython",
    "version": 3
   },
   "file_extension": ".py",
   "mimetype": "text/x-python",
   "name": "python",
   "nbconvert_exporter": "python",
   "pygments_lexer": "ipython3",
   "version": "3.7.0"
  }
 },
 "nbformat": 4,
 "nbformat_minor": 2
}
